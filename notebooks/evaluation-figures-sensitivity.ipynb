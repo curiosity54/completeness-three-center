{
 "cells": [
  {
   "cell_type": "code",
   "execution_count": 5,
   "id": "0ecc3878",
   "metadata": {
    "ExecuteTime": {
     "end_time": "2023-08-09T19:07:17.564305Z",
     "start_time": "2023-08-09T19:07:17.551557Z"
    }
   },
   "outputs": [],
   "source": [
    "import numpy as np \n",
    "import matplotlib.pyplot as plt \n",
    "import hickle\n",
    "from ase.units import Hartree\n",
    "from ase.io import read\n",
    "from ase.visualize import view\n",
    "import ase"
   ]
  },
  {
   "cell_type": "code",
   "execution_count": 6,
   "id": "e7b42e38",
   "metadata": {
    "ExecuteTime": {
     "end_time": "2023-08-09T19:07:17.884598Z",
     "start_time": "2023-08-09T19:07:17.878612Z"
    }
   },
   "outputs": [],
   "source": [
    "from rascaline import SphericalExpansion\n",
    "from rascaline import SphericalExpansionByPair as PairExpansion\n",
    "from equistore import operations\n",
    "from equistore_utils.clebsh_gordan import ClebschGordanReal\n",
    "from equistore_utils.mp_utils import  *\n",
    "from equistore_utils.acdc_mini import acdc_standardize_keys\n",
    "from equistore import Labels, TensorBlock, TensorMap\n",
    "from itertools import product\n",
    "import torch"
   ]
  },
  {
   "cell_type": "code",
   "execution_count": 7,
   "id": "2ab68a9d",
   "metadata": {
    "ExecuteTime": {
     "end_time": "2023-08-09T19:07:18.240882Z",
     "start_time": "2023-08-09T19:07:18.181907Z"
    }
   },
   "outputs": [],
   "source": [
    "hypers = {\n",
    "    \"cutoff\": 2.0,\n",
    "    \"max_radial\": 6,\n",
    "    \"max_angular\": 3,\n",
    "    \"atomic_gaussian_width\": 0.2,\n",
    "    \"radial_basis\": {\"Gto\": {}},\n",
    "    \"cutoff_function\": {\"ShiftedCosine\": {\"width\": 0.1}},\n",
    "    \"center_atom_weight\": 0.0,    \n",
    "}\n",
    "cg = ClebschGordanReal(6)\n",
    "\n",
    "calculator = SphericalExpansion(**hypers)\n",
    "\n",
    "def compute_rho3(frames):\n",
    "    rhoi = calculator.compute(frames)\n",
    "    rhoi = rhoi.keys_to_properties(['species_neighbor'])\n",
    "    rho1i = acdc_standardize_keys(rhoi)\n",
    "    # selects only one environment\n",
    "    rho1i = operations.slice(rho1i, samples=Labels(['center'],np.array([[0]], np.int32)) )\n",
    "    rho2i = cg_increment(rho1i, rho1i, clebsch_gordan=cg, lcut=3, other_keys_match=[\"species_center\"])\n",
    "    rho3i = cg_increment(rho2i, rho1i, clebsch_gordan=cg, lcut=0, other_keys_match=[\"species_center\"])\n",
    "    \n",
    "    raw = np.hstack([\n",
    "    rho1i.block(inversion_sigma=1,spherical_harmonics_l=0).values.squeeze(),\n",
    "    rho2i.block(inversion_sigma=1,spherical_harmonics_l=0).values.squeeze(),\n",
    "    rho3i.block(inversion_sigma=1,spherical_harmonics_l=0).values.squeeze(),\n",
    "    rho3i.block(inversion_sigma=-1,spherical_harmonics_l=0).values.squeeze(),\n",
    "    ])\n",
    "#     print(raw.shape)\n",
    "#     hickle.dump (raw, feat_file+ 'feat_123.hickle')\n",
    "#     feats = PCA(n_components=min(raw.shape[0],raw.shape[-1])).fit_transform(raw) \n",
    "#     hickle.dump(feats, feat_file + 'feat_123_PCA.hickle')\n",
    "    \n",
    "    return raw\n",
    "\n",
    "def compute_3c(frames, return_3c = False):\n",
    "    from sklearn.decomposition import PCA\n",
    "    calculator = SphericalExpansion(**hypers)\n",
    "    rhoi = calculator.compute(frames)\n",
    "    rhoi = rhoi.keys_to_properties(['species_neighbor'])\n",
    "    rho1i = acdc_standardize_keys(rhoi)\n",
    "\n",
    "    # selects only one environment\n",
    "    rho1i = operations.slice(rho1i, samples=Labels(['center'],np.array([[0]], np.int32)) )\n",
    "\n",
    "    calculator = PairExpansion(**hypers)\n",
    "    gij = calculator.compute(frames)\n",
    "    gij = operations.slice(gij, samples=Labels(['first_atom'],np.array([[0]], np.int32)) )\n",
    "    gij =  acdc_standardize_keys(gij)\n",
    "\n",
    "\n",
    "    rhoii1i2_nu0 = cg_combine(gij, gij, clebsch_gordan=cg, other_keys_match=['species_center'], lcut=3)\n",
    "    rhoii1i2_nu1 =  cg_combine(rho1i, rhoii1i2_nu0, clebsch_gordan=cg, other_keys_match = ['species_center'], lcut=0)\n",
    "    raw = np.hstack([rhoii1i2_nu1.block(0).values.squeeze(),rhoii1i2_nu1.block(1).values.squeeze()])\n",
    "    #print(raw.shape)\n",
    "    feats_n2nu1 = PCA(n_components=min(raw.shape[0],raw.shape[-1])).fit_transform(raw)\n",
    "\n",
    "    if return_3c:\n",
    "        return feats_n2nu1, rhoii1i2_nu1\n",
    "    else:\n",
    "        return feats_n2nu1"
   ]
  },
  {
   "cell_type": "code",
   "execution_count": 8,
   "id": "4d3151e5",
   "metadata": {
    "ExecuteTime": {
     "end_time": "2023-08-09T19:07:18.826000Z",
     "start_time": "2023-08-09T19:07:18.819595Z"
    }
   },
   "outputs": [],
   "source": [
    "def rmsd_atomic_positions(x, y):\n",
    "    \"\"\"\n",
    "    Calculate the Root Mean Square Deviation (RMSD) between two sets of atomic positions.\n",
    "    \"\"\"\n",
    "#     return np.sqrt(np.mean(np.sum((x-y)**2, axis=1)))\n",
    "    return np.sqrt(np.sum((x-y)**2, axis=(1,2))/(8*3))\n",
    "    \n"
   ]
  },
  {
   "cell_type": "code",
   "execution_count": 27,
   "id": "f5f8852c",
   "metadata": {
    "ExecuteTime": {
     "end_time": "2023-08-02T19:26:34.658072Z",
     "start_time": "2023-08-02T19:26:33.418251Z"
    }
   },
   "outputs": [],
   "source": [
    "fr1 = read('/Users/jigyasa/scratch/bispectrum_counter/boron/NOISE/symm/boron8_distorted_frames_var1e-4.xyz', ':1000')\n",
    "rho3i = compute_rho3(fr1)\n",
    "rho3i_deg = compute_rho3(frames[:1000])\n",
    "\n",
    "rho33 = np.vstack((rho3i_deg, rho3i))\n",
    "rho33=rho33/np.linalg.norm(rho33)"
   ]
  },
  {
   "cell_type": "code",
   "execution_count": 39,
   "id": "b8d72191",
   "metadata": {
    "ExecuteTime": {
     "end_time": "2023-08-09T19:30:15.436867Z",
     "start_time": "2023-08-09T19:30:13.788016Z"
    }
   },
   "outputs": [],
   "source": [
    "rho3i = hickle.load('feat_123_PCA.hickle')[:300]\n",
    "rho3i=rho3i/np.linalg.norm(rho3i)\n",
    "rho3i+= np.random.normal(0,1e-3,rho3i.shape)\n",
    "rho33 = hickle.load('NOISE1feat_123_PCA.hickle')[:300]\n",
    "rho33=rho33/np.linalg.norm(rho33)\n",
    "rho33 = np.vstack((rho3i, rho33))\n",
    "pair_bis = []\n",
    "for i in range(300):\n",
    "    for j in range(i, 300):\n",
    "        pair_bis.append(np.linalg.norm(rho33[i] - rho33[j]))\n",
    "        \n",
    "        \n",
    "rho33 = hickle.load('NOISE1feat_123_PCA.hickle')[300:600]\n",
    "# rho33=rho33/np.linalg.norm(rho33)\n",
    "\n",
    "\n",
    "# for i in range(0,len(frames),2):\n",
    "#     noise = np.random.normal(0,1e-4,(1,rho3i.shape[-1]))\n",
    "#     rho3i[i:i+2]+noise\n",
    "\n",
    "\n",
    "pair_bis5 = []\n",
    "for i in range(300):\n",
    "    for j in range(i, 300):\n",
    "        pair_bis5.append(np.linalg.norm(rho33[i] - rho33[j]))"
   ]
  },
  {
   "cell_type": "code",
   "execution_count": 31,
   "id": "a4b3a1c1",
   "metadata": {
    "ExecuteTime": {
     "end_time": "2023-08-02T19:27:40.261890Z",
     "start_time": "2023-08-02T19:27:40.157868Z"
    }
   },
   "outputs": [],
   "source": [
    "# np.save('extra1-1rho33.npy', rho33)\n",
    "# np.save('extra1-1pair_rho33', pair_rho33)\n",
    "\n",
    "# np.save('extra1-1pair_rho33-500', pair_rho33)"
   ]
  },
  {
   "cell_type": "code",
   "execution_count": 40,
   "id": "cf0ba04a",
   "metadata": {
    "ExecuteTime": {
     "end_time": "2023-08-09T19:30:39.228199Z",
     "start_time": "2023-08-09T19:30:38.648686Z"
    }
   },
   "outputs": [],
   "source": [
    "# f3ci = compute_3c(fr1)\n",
    "# f3c_deg = compute_3c(frames[:1000])\n",
    "enc = hickle.load('nl_encoded_feat.hickle')[:300]\n",
    "enc+= np.random.normal(0,1e-3,enc.shape)\n",
    "enc = enc/np.linalg.norm(enc)\n",
    "\n",
    "enc33 = hickle.load('NOISE1nl_encoded_feat.hickle')[:300]\n",
    "enc33 = enc33/np.linalg.norm(enc33)\n",
    "enc33 = np.vstack((enc, enc33))\n",
    "\n",
    "pair_enc_nl = []\n",
    "for i in range(300):\n",
    "    for j in range(i, 300):\n",
    "        pair_enc_nl.append(np.linalg.norm(enc33[i] - enc33[j]))\n",
    "\n",
    "\n",
    "        \n",
    "enc33 = hickle.load('NOISE1nl_encoded_feat.hickle')[300:600]\n",
    "# enc33 = enc33/np.linalg.norm(enc33)\n",
    "\n",
    "pair_enc_nl5 = []\n",
    "for i in range(300):\n",
    "    for j in range(i, 300):\n",
    "        pair_enc_nl5.append(np.linalg.norm(enc33[i] - enc33[j]))\n"
   ]
  },
  {
   "cell_type": "code",
   "execution_count": null,
   "id": "eba8c125",
   "metadata": {},
   "outputs": [],
   "source": []
  },
  {
   "cell_type": "code",
   "execution_count": 41,
   "id": "87de6169",
   "metadata": {
    "ExecuteTime": {
     "end_time": "2023-08-09T19:31:00.288645Z",
     "start_time": "2023-08-09T19:30:57.882182Z"
    }
   },
   "outputs": [],
   "source": [
    "f7 = hickle.load('feat_1234567_PCA.hickle')[:300]\n",
    "f7+= np.random.normal(0,1e-3,f7.shape)\n",
    "f7 = f7/np.linalg.norm(f7)\n",
    "f733 = hickle.load('NOISE1feat_1234567_PCA.hickle')[:300]\n",
    "f733 = f733/np.linalg.norm(f733)\n",
    "f733 = np.vstack((f7, f733))\n",
    "\n",
    "pair_f7_nl = []\n",
    "for i in range(0, 300):\n",
    "    for j in range(i, 300):\n",
    "        pair_f7_nl.append(np.linalg.norm(f733[i]-f733[j]))\n",
    "\n",
    "# np.save('extra1-1pair_f733', pair_f733)\n",
    "\n",
    "f733 = hickle.load('NOISE1feat_1234567_PCA.hickle')[300:600]\n",
    "f733 = f733/np.linalg.norm(f733)\n",
    "# f733 = np.vstack((f7, f733))\n",
    "pair_f7_nl5 = []\n",
    "for i in range(0, 300):\n",
    "    for j in range(i, 300):\n",
    "        pair_f7_nl5.append(np.linalg.norm(f733[i]-f733[j]))\n",
    "        \n",
    "# np.save('extra1-1pair_f733-500', pair_f733)"
   ]
  },
  {
   "cell_type": "code",
   "execution_count": 156,
   "id": "f547a013",
   "metadata": {
    "ExecuteTime": {
     "end_time": "2023-08-02T21:30:54.506148Z",
     "start_time": "2023-08-02T21:30:54.334624Z"
    }
   },
   "outputs": [
    {
     "ename": "NameError",
     "evalue": "name 'enc33' is not defined",
     "output_type": "error",
     "traceback": [
      "\u001b[0;31m---------------------------------------------------------------------------\u001b[0m",
      "\u001b[0;31mNameError\u001b[0m                                 Traceback (most recent call last)",
      "Cell \u001b[0;32mIn [156], line 4\u001b[0m\n\u001b[1;32m      2\u001b[0m \u001b[38;5;28;01mfor\u001b[39;00m i \u001b[38;5;129;01min\u001b[39;00m \u001b[38;5;28mrange\u001b[39m(\u001b[38;5;241m200\u001b[39m):\n\u001b[1;32m      3\u001b[0m     \u001b[38;5;28;01mfor\u001b[39;00m j \u001b[38;5;129;01min\u001b[39;00m \u001b[38;5;28mrange\u001b[39m(i, \u001b[38;5;241m200\u001b[39m):\n\u001b[0;32m----> 4\u001b[0m         pair_enc33\u001b[38;5;241m.\u001b[39mappend(np\u001b[38;5;241m.\u001b[39mlinalg\u001b[38;5;241m.\u001b[39mnorm(\u001b[43menc33\u001b[49m[i] \u001b[38;5;241m-\u001b[39m enc33[j]))\n",
      "\u001b[0;31mNameError\u001b[0m: name 'enc33' is not defined"
     ]
    }
   ],
   "source": [
    "pair_enc33 = []\n",
    "for i in range(500):\n",
    "    for j in range(i, 500):\n",
    "        pair_enc33.append(np.linalg.norm(enc33[i] - enc33[j]))"
   ]
  },
  {
   "cell_type": "code",
   "execution_count": 209,
   "id": "131002ea",
   "metadata": {
    "ExecuteTime": {
     "end_time": "2023-08-02T21:58:36.036819Z",
     "start_time": "2023-08-02T21:58:36.012549Z"
    }
   },
   "outputs": [
    {
     "ename": "NameError",
     "evalue": "name 'enc33' is not defined",
     "output_type": "error",
     "traceback": [
      "\u001b[0;31m---------------------------------------------------------------------------\u001b[0m",
      "\u001b[0;31mNameError\u001b[0m                                 Traceback (most recent call last)",
      "Cell \u001b[0;32mIn [209], line 1\u001b[0m\n\u001b[0;32m----> 1\u001b[0m np\u001b[38;5;241m.\u001b[39msave(\u001b[38;5;124m'\u001b[39m\u001b[38;5;124m1-1enc33.npy\u001b[39m\u001b[38;5;124m'\u001b[39m, \u001b[43menc33\u001b[49m)\n\u001b[1;32m      2\u001b[0m np\u001b[38;5;241m.\u001b[39msave(\u001b[38;5;124m'\u001b[39m\u001b[38;5;124m1-1pair_enc33\u001b[39m\u001b[38;5;124m'\u001b[39m, pair_enc33)\n",
      "\u001b[0;31mNameError\u001b[0m: name 'enc33' is not defined"
     ]
    }
   ],
   "source": [
    "np.save('1-1enc33.npy', enc33)\n",
    "np.save('1-1pair_enc33', pair_enc33)"
   ]
  },
  {
   "cell_type": "code",
   "execution_count": 21,
   "id": "1fa02260",
   "metadata": {
    "ExecuteTime": {
     "end_time": "2023-08-02T19:21:44.098329Z",
     "start_time": "2023-08-02T19:21:44.091845Z"
    }
   },
   "outputs": [
    {
     "data": {
      "text/plain": [
       "(1000, 5118)"
      ]
     },
     "execution_count": 21,
     "metadata": {},
     "output_type": "execute_result"
    }
   ],
   "source": [
    "rho3i.shape"
   ]
  },
  {
   "cell_type": "markdown",
   "id": "17dda89f",
   "metadata": {
    "ExecuteTime": {
     "end_time": "2023-07-30T09:00:19.023345Z",
     "start_time": "2023-07-30T09:00:19.016570Z"
    }
   },
   "source": [
    "# REVISION "
   ]
  },
  {
   "cell_type": "code",
   "execution_count": 5,
   "id": "e9c7dcae",
   "metadata": {
    "ExecuteTime": {
     "end_time": "2023-08-02T17:04:13.633042Z",
     "start_time": "2023-08-02T17:04:13.628481Z"
    }
   },
   "outputs": [],
   "source": [
    "import torch\n",
    "import hickle"
   ]
  },
  {
   "cell_type": "code",
   "execution_count": 6,
   "id": "f81f8ed0",
   "metadata": {
    "ExecuteTime": {
     "end_time": "2023-08-02T17:04:14.247061Z",
     "start_time": "2023-08-02T17:04:14.242440Z"
    }
   },
   "outputs": [],
   "source": [
    "# def rmsd(x, nfeats = 1):\n",
    "#     return torch.sqrt(torch.mean(torch.sum((x[0::2] - x[1::2])**2, axis=1)/nfeats))"
   ]
  },
  {
   "cell_type": "code",
   "execution_count": 70,
   "id": "3f790f4a",
   "metadata": {
    "ExecuteTime": {
     "end_time": "2023-08-02T17:38:04.968571Z",
     "start_time": "2023-08-02T17:38:04.961017Z"
    }
   },
   "outputs": [],
   "source": [
    "def scale(x, var=False): \n",
    "    if not var:\n",
    "        return x-x.mean()\n",
    "    else: \n",
    "        return (x-x.mean)/np.std(x)\n",
    "#         pass\n",
    "\n",
    "def distort(x, var= 1e-3, scale = 1): \n",
    "    noise = np.random.normal(0,var, x.shape )*scale \n",
    "    print(np.linalg.norm(noise), np.linalg.norm(x))\n",
    "    return x + noise, noise\n"
   ]
  },
  {
   "cell_type": "code",
   "execution_count": 94,
   "id": "3ed76fb7",
   "metadata": {
    "ExecuteTime": {
     "end_time": "2023-08-02T17:43:31.175402Z",
     "start_time": "2023-08-02T17:43:29.276856Z"
    }
   },
   "outputs": [
    {
     "name": "stdout",
     "output_type": "stream",
     "text": [
      "0.010123325332083632 60378.84514994012\n",
      "63.98478562545987 105.68701782670782\n"
     ]
    }
   ],
   "source": [
    "enc_nl = hickle.load('/Users/jigyasa/scratch/bispectrum_counter/boron/nl_encoded_feat.hickle').numpy()\n",
    "enc_nl, noise = distort(enc_nl, scale=1e-2)\n",
    "enc_nl = enc_nl/np.linalg.norm(enc_nl)\n",
    "\n",
    "# enc_lin = hickle.load('/Users/jigyasa/scratch/bispectrum_counter/boron/lin_encoded_feat.hickle').numpy()\n",
    "# feat7 = hickle.load('/Users/jigyasa/scratch/bispectrum_counter/boron/feat_1234567_PCA.hickle')\n",
    "\n",
    "bisp = hickle.load('/Users/jigyasa/scratch/bispectrum_counter/boron/feat_123.hickle')\n",
    "bisp, noise= distort(bisp,var=1e-2)#, scale=1e-7)\n",
    "bisp=bisp/np.linalg.norm(bisp)\n",
    "# f3c = hickle.load('/home/nigam/scratch/MAC/bispectrum_counter/boron/f3c_dist_pairwise.npy')\n",
    "\n",
    "# enc_nl+=noise\n",
    "# enc_nl = enc_nl/np.linalg.norm(enc_nl)\n",
    "\n",
    "# energy = np.load('Users/jigyasa/scratch/bispectrum_counter/boron/energy.npy')*Hartree "
   ]
  },
  {
   "cell_type": "code",
   "execution_count": 48,
   "id": "08046dcf",
   "metadata": {
    "ExecuteTime": {
     "end_time": "2023-08-09T19:33:16.502282Z",
     "start_time": "2023-08-09T19:33:16.482576Z"
    }
   },
   "outputs": [],
   "source": [
    "# pair_bis = np.load('/Users/jigyasa/scratch/bispectrum_counter/boron/extra1pair_rho33.npy')\n",
    "# pair_enc_nl = np.load('/Users/jigyasa/scratch/bispectrum_counter/boron/1pair_enc33.npy')\n",
    "\n",
    "pair_bis = np.load('/Users/jigyasa/scratch/bispectrum_counter/boron/extra1-1pair_rho33.npy')\n",
    "pair_enc_nl = np.load('/Users/jigyasa/scratch/bispectrum_counter/boron/extra1-1pair_enc33.npy')\n",
    "\n",
    "pair_bis5 = np.load('/Users/jigyasa/scratch/bispectrum_counter/boron/extra1-1pair_rho33-500.npy')[:2000]\n",
    "pair_enc_nl5 = np.load('/Users/jigyasa/scratch/bispectrum_counter/boron/extra1-1pair_enc33-500.npy')[:2000]\n",
    "\n",
    "pair_f7_nl = np.load('/Users/jigyasa/scratch/bispectrum_counter/boron/extra1-1pair_f733.npy')\n",
    "pair_f7_nl5 = np.load('/Users/jigyasa/scratch/bispectrum_counter/boron/extra1-1pair_f733-500.npy')[:2000]"
   ]
  },
  {
   "cell_type": "code",
   "execution_count": 29,
   "id": "6138e3d2",
   "metadata": {
    "ExecuteTime": {
     "end_time": "2023-08-09T19:17:47.398214Z",
     "start_time": "2023-08-09T19:17:47.391843Z"
    }
   },
   "outputs": [
    {
     "data": {
      "text/plain": [
       "1.237355196960946e-07"
      ]
     },
     "execution_count": 29,
     "metadata": {},
     "output_type": "execute_result"
    }
   ],
   "source": [
    "np.random.normal(scale = 1e-6)"
   ]
  },
  {
   "cell_type": "code",
   "execution_count": null,
   "id": "7e49ffca",
   "metadata": {},
   "outputs": [],
   "source": [
    "pair_bis[np.where(pair_bis<1e-10)]+=np.random.rand(1e-4)"
   ]
  },
  {
   "cell_type": "code",
   "execution_count": 49,
   "id": "0a468c64",
   "metadata": {
    "ExecuteTime": {
     "end_time": "2023-08-09T19:33:24.023177Z",
     "start_time": "2023-08-09T19:33:23.576306Z"
    }
   },
   "outputs": [
    {
     "data": {
      "text/plain": [
       "<matplotlib.legend.Legend at 0x29506e3b0>"
      ]
     },
     "execution_count": 49,
     "metadata": {},
     "output_type": "execute_result"
    },
    {
     "data": {
      "image/png": "[encoded data removed]",
      "text/plain": [
       "<Figure size 640x480 with 1 Axes>"
      ]
     },
     "metadata": {},
     "output_type": "display_data"
    }
   ],
   "source": [
    "# plt.loglog(pair_enc_nl, pair_bis, c='b', ls = '', marker = 'o', markersize =1, alpha=0.2)\n",
    "# plt.loglog(pair_enc_nl5, pair_bis5, c='b', ls = '', marker = 'o', markersize =1, alpha=0.2)\n",
    "plt.loglog(pair_bis, pair_f7_nl,  c='r', ls = '', marker = 'o', markersize =1, alpha=0.2, label = r'$d_{\\rho_i^{\\otimes{3}}}$')\n",
    "plt.loglog( pair_enc_nl,  pair_f7_nl, c='b', ls = '', marker = 'o', markersize =1, alpha=0.2, label = r'$d_{\\tilde{\\xi}_p^{NL}}$')\n",
    "#            =\\sum_{i_1,i_2}\\psi_p^{NL}[|\\rho_{ii_1 i_2}^{\\otimes{1}}\\rangle]$')\n",
    "\n",
    "# plt.loglog(pair_enc_nl5, pair_bis5, c='b', ls = '', marker = 'o', markersize =1, alpha=0.2)\n",
    "# plt.loglog(pair_enc_nl5, pair_bis5, c='b', ls = '', marker = 'o', markersize =1, alpha=0.2)\n",
    "\n",
    "# plt.loglog( pair_enc_nl5, pair_f7_nl5, c='b', ls = '', marker = 'o', markersize =1, alpha=0.2)\n",
    "# plt.loglog(pair_bis5, pair_f7_nl5, c='r', ls = '', marker = 'o', markersize =1, alpha=0.2)\n",
    "\n",
    "plt.xlabel(r'$d_{\\rho_i^{\\otimes{7}}}$')\n",
    "\n",
    "# plt.ylabel(r'$| \\rho_i^{\\otimes{3}}\\rangle $')\n",
    "# plt.ylim([5e-3, 4e-1])\n",
    "# plt.xlim([5e-3, 4e-1])\n",
    "plt.legend()"
   ]
  },
  {
   "cell_type": "code",
   "execution_count": 137,
   "id": "0525f731",
   "metadata": {
    "ExecuteTime": {
     "end_time": "2023-08-02T20:53:07.211972Z",
     "start_time": "2023-08-02T20:53:07.204466Z"
    }
   },
   "outputs": [
    {
     "name": "stdout",
     "output_type": "stream",
     "text": [
      "0.025998541528369633 0.021772992144079267\n"
     ]
    }
   ],
   "source": [
    "print(np.max(pair_enc_nl), np.max(pair_bis))"
   ]
  },
  {
   "cell_type": "code",
   "execution_count": null,
   "id": "83c4427b",
   "metadata": {},
   "outputs": [],
   "source": []
  },
  {
   "cell_type": "code",
   "execution_count": 4,
   "id": "935f8afb",
   "metadata": {
    "ExecuteTime": {
     "end_time": "2023-08-02T19:10:39.448378Z",
     "start_time": "2023-08-02T19:10:39.368198Z"
    }
   },
   "outputs": [],
   "source": [
    "pair_bis = np.load('bis_allpairs_norm_noisy.npy')\n",
    "pair_enc_nl = np.load('enc_nl_allpairs_norm_noisy.npy')"
   ]
  },
  {
   "cell_type": "code",
   "execution_count": 103,
   "id": "505c3fe3",
   "metadata": {
    "ExecuteTime": {
     "end_time": "2023-08-02T18:01:21.909731Z",
     "start_time": "2023-08-02T18:01:21.461590Z"
    }
   },
   "outputs": [],
   "source": [
    "# np.save('bis_allpairs_norm_noisy', pair_bis)"
   ]
  },
  {
   "cell_type": "code",
   "execution_count": 104,
   "id": "45b2163a",
   "metadata": {
    "ExecuteTime": {
     "end_time": "2023-08-02T18:01:23.998821Z",
     "start_time": "2023-08-02T18:01:23.544740Z"
    }
   },
   "outputs": [],
   "source": [
    "# np.save('enc_nl_allpairs_norm_noisy', pair_enc_nl)"
   ]
  },
  {
   "cell_type": "code",
   "execution_count": 80,
   "id": "e338ed68",
   "metadata": {
    "ExecuteTime": {
     "end_time": "2023-08-01T20:30:32.603022Z",
     "start_time": "2023-08-01T20:30:32.596754Z"
    }
   },
   "outputs": [
    {
     "data": {
      "text/plain": [
       "32004000"
      ]
     },
     "execution_count": 80,
     "metadata": {},
     "output_type": "execute_result"
    }
   ],
   "source": [
    "len(pair_enc_nl)"
   ]
  },
  {
   "cell_type": "code",
   "execution_count": 8,
   "id": "2bc66a20",
   "metadata": {
    "ExecuteTime": {
     "end_time": "2023-08-01T21:20:23.870450Z",
     "start_time": "2023-08-01T21:20:23.765091Z"
    }
   },
   "outputs": [],
   "source": [
    "pair_enc_nl = np.load('/Users/jigyasa/scratch/bispectrum_counter/boron/enc_nl_allpairs_norm.npy')\n",
    "# enc_lin = np.load('/Users/jigyasa/scratch/bispectrum_counter/boron/enc_lin_allpairs.npy')\n",
    "pair_bis  = np.load('/Users/jigyasa/scratch/bispectrum_counter/boron/bis_allpairs_norm.npy')\n",
    "# f7 = np.load('/Users/jigyasa/scratch/bispectrum_counter/boron/feat7_allpairs.npy')"
   ]
  },
  {
   "cell_type": "code",
   "execution_count": 111,
   "id": "e2620172",
   "metadata": {
    "ExecuteTime": {
     "end_time": "2023-08-02T18:04:52.623392Z",
     "start_time": "2023-08-02T18:03:24.547277Z"
    }
   },
   "outputs": [
    {
     "data": {
      "image/png": "[encoded data removed]",
      "text/plain": [
       "<Figure size 350x350 with 1 Axes>"
      ]
     },
     "metadata": {},
     "output_type": "display_data"
    }
   ],
   "source": [
    "fig, ax = plt.subplots(1, 1, figsize=(3.5,3.5), constrained_layout=True)\n",
    "ax.loglog(pair_enc_nl, pair_bis, c='b', ls = '', marker = 'o', markersize =1, alpha=0.2)\n",
    "ax.set_xlabel(r'$\\tilde{\\xi}_p(A_i) =\\sum_{i_1,i_2}\\psi_p^{NL}[|\\rho_{ii_1 i_2}^{\\otimes{1}}\\rangle]$')\n",
    "ax.set_ylabel(r'$| \\rho_i^{\\otimes{3}}\\rangle $')\n",
    "ax.plot()\n",
    "ax.set_xlim(1e-7,1.2e-1)\n",
    "ax.set_ylim(7.8e-3,1.1e-2)\n",
    "\n",
    "# ax.axline((0,0), slope=1, color='black')\n",
    "# ax.legend()\n",
    "fig.savefig(\"boron-sensitivity.pdf\")"
   ]
  },
  {
   "cell_type": "code",
   "execution_count": null,
   "id": "a646ec84",
   "metadata": {},
   "outputs": [],
   "source": []
  },
  {
   "cell_type": "code",
   "execution_count": 27,
   "id": "bd3c6879",
   "metadata": {
    "ExecuteTime": {
     "end_time": "2023-08-01T19:40:55.303441Z",
     "start_time": "2023-08-01T19:40:55.296333Z"
    }
   },
   "outputs": [],
   "source": [
    "# enc_nl = np.load('Users/jigyasa/scratch/bispectrum_counter/boron/encoded_nl_dist_pairwise.npy')\n",
    "# enc_lin = np.load('Users/jigyasa/scratch/bispectrum_counter/boron/encoded_lin_dist_pairwise.npy')\n",
    "# feat7 = np.load('Users/jigyasa/scratch/bispectrum_counter/boron/feat7_dist_pairwise.npy')\n",
    "# bisp = np.load('Users/jigyasa/scratch/bispectrum_counter/boron/bis_dist_pairwise.npy')\n",
    "# f3c = np.load('Users/jigyasa/scratch/bispectrum_counter/boron/f3c_dist_pairwise.npy')\n",
    "\n",
    "\n",
    "# energy = np.load('Users/jigyasa/scratch/bispectrum_counter/boron/energy.npy')*Hartree "
   ]
  },
  {
   "cell_type": "code",
   "execution_count": null,
   "id": "a6b34e01",
   "metadata": {},
   "outputs": [],
   "source": []
  },
  {
   "cell_type": "code",
   "execution_count": 41,
   "id": "99228a99",
   "metadata": {
    "ExecuteTime": {
     "end_time": "2023-08-01T19:44:51.683580Z",
     "start_time": "2023-08-01T19:44:51.672501Z"
    }
   },
   "outputs": [],
   "source": [
    "# enc_nl_mean = np.load('/home/nigam/scratch/MAC/bispectrum_counter/boron/encoded_nl_mean_pairwise.npy')\n",
    "# enc_lin_mean = np.load('/home/nigam/scratch/MAC/bispectrum_counter/boron/encoded_lin_mean_pairwise.npy')\n",
    "# feat7_mean = np.load('/home/nigam/scratch/MAC/bispectrum_counter/boron/feat7_mean_pairwise.npy')\n",
    "# bisp_mean = np.load('/home/nigam/scratch/MAC/bispectrum_counter/boron/bis_mean_pairwise.npy')\n",
    "# f3c_mean= np.load('/home/nigam/scratch/MAC/bispectrum_counter/boron/f3c_mean_pairwise.npy')"
   ]
  },
  {
   "cell_type": "markdown",
   "id": "cc0946b6",
   "metadata": {},
   "source": [
    "# SUBMISSION "
   ]
  },
  {
   "cell_type": "code",
   "execution_count": 112,
   "id": "855a611b",
   "metadata": {
    "ExecuteTime": {
     "end_time": "2023-08-02T18:04:52.633561Z",
     "start_time": "2023-08-02T18:04:52.625826Z"
    }
   },
   "outputs": [],
   "source": [
    "def get_mean_error(predictions, target):\n",
    "    first = (predictions[::2] + predictions[1::2]).flatten() / 2.0\n",
    "    second = (target[::2] + target[1::2]).flatten() / 2.0\n",
    "    values = first - second\n",
    "    error = np.sqrt(np.mean(values ** 2))\n",
    "    return error \n",
    "\n",
    "def get_delta_error(predictions, target):\n",
    "    first = (predictions[::2]-predictions[1::2]).flatten()\n",
    "    second = (target[::2]-target[1::2]).flatten()\n",
    "    values = first - second\n",
    "    error = np.sqrt(np.mean( values ** 2 ))   \n",
    "    return error\n",
    "\n",
    "def get_all_errors(predictions_train, predictions_val, target_train, target_val, relative=True):\n",
    "#     target_full = np.concatenate([target_train, target_val], axis = 0)\n",
    "    print(\"target_train.shape\", target_train.shape)\n",
    "    print(\"target_val.shape\", target_val.shape)\n",
    "    mean_error_train = get_mean_error(predictions_train, target_train)\n",
    "    mean_error_val = get_mean_error(predictions_val, target_val)\n",
    "    delta_error_train = get_delta_error(predictions_train, target_train)\n",
    "    delta_error_val = get_delta_error(predictions_val, target_val)\n",
    "#     normalization_mean = np.std(target_full)\n",
    "    normalization_mean_train = np.std(target_train)\n",
    "    normalization_mean_val = np.std(target_val)\n",
    "    norm_delta_train = np.std(target_train[::2] - target_train[1::2])\n",
    "    norm_delta_val = np.std(target_val[::2] - target_val[1::2])\n",
    "#     normalization_delta = np.std(target_full[::2]-target_full[1::2])\n",
    "    if relative:\n",
    "        print(\"normalized\")\n",
    "#         print(\"mean_train\", normalization_mean_train)\n",
    "#         print(\"mean_test\", normalization_mean_val)\n",
    "#         print(\"delta_train\", norm_delta_train)\n",
    "#         print(\"delta_test\", norm_delta_val)\n",
    "        mean_error_train = mean_error_train / normalization_mean_train#normalization_mean\n",
    "        mean_error_val = mean_error_val / normalization_mean_val#normalization_mean\n",
    "        delta_error_train = delta_error_train / norm_delta_train#normalization_delta\n",
    "        delta_error_val = delta_error_val / norm_delta_val#normalization_delta \n",
    "        \n",
    "    return mean_error_train, mean_error_val, delta_error_train, delta_error_val\n",
    "\n"
   ]
  },
  {
   "cell_type": "code",
   "execution_count": 113,
   "id": "758a2315",
   "metadata": {
    "ExecuteTime": {
     "end_time": "2023-08-02T18:04:52.636336Z",
     "start_time": "2023-08-02T18:04:52.634672Z"
    }
   },
   "outputs": [],
   "source": [
    "# from ase.visualize import view \n",
    "# frames = read('bispectrum_counter/boron/boron_8000_pbeccpvdz.xyz', ':8000')\n",
    "from ase.io import write"
   ]
  },
  {
   "cell_type": "code",
   "execution_count": 114,
   "id": "80449828",
   "metadata": {
    "ExecuteTime": {
     "end_time": "2023-08-02T18:04:52.639264Z",
     "start_time": "2023-08-02T18:04:52.637862Z"
    }
   },
   "outputs": [],
   "source": [
    "# write('frame-354.xyz', frames[354])\n",
    "# write('frame-355.xyz', frames[355])"
   ]
  },
  {
   "cell_type": "markdown",
   "id": "d1536a3c",
   "metadata": {
    "ExecuteTime": {
     "end_time": "2023-05-17T15:41:16.948815Z",
     "start_time": "2023-05-17T15:41:16.945964Z"
    }
   },
   "source": [
    "# BORON"
   ]
  },
  {
   "cell_type": "markdown",
   "id": "3ec01208",
   "metadata": {
    "heading_collapsed": true
   },
   "source": [
    "## Features"
   ]
  },
  {
   "cell_type": "code",
   "execution_count": null,
   "id": "28228c6b",
   "metadata": {
    "ExecuteTime": {
     "end_time": "2023-05-30T09:40:33.392469Z",
     "start_time": "2023-05-30T09:40:33.273183Z"
    },
    "hidden": true
   },
   "outputs": [],
   "source": [
    "feats_nu_to7 = hickle.load('bispectrum_counter/boron/feat_1234567_PCA.hickle')\n",
    "output_size = feats_nu_to7.shape[-1]\n",
    "target = feats_nu_to7[:,:output_size]\n",
    "ntrain = 7000"
   ]
  },
  {
   "cell_type": "markdown",
   "id": "7e99285e",
   "metadata": {
    "hidden": true
   },
   "source": [
    "### linear "
   ]
  },
  {
   "cell_type": "code",
   "execution_count": null,
   "id": "78d20ef6",
   "metadata": {
    "ExecuteTime": {
     "end_time": "2023-05-30T09:40:35.338779Z",
     "start_time": "2023-05-30T09:40:35.241522Z"
    },
    "hidden": true
   },
   "outputs": [],
   "source": [
    "pred_lin = np.load('bispectrum_counter/boron/pred_feat/silu_lin8k.npy')"
   ]
  },
  {
   "cell_type": "code",
   "execution_count": 56,
   "id": "304a4ddf",
   "metadata": {
    "ExecuteTime": {
     "end_time": "2023-05-06T08:56:19.265307Z",
     "start_time": "2023-05-06T08:56:16.012878Z"
    },
    "hidden": true
   },
   "outputs": [
    {
     "name": "stdout",
     "output_type": "stream",
     "text": [
      "target_train.shape (7000, 8000)\n",
      "target_val.shape (1000, 8000)\n",
      "normalized\n",
      "mean train error:  0.009852770000171917\n",
      "mean test error:  0.017416600517321922\n",
      "delta train error:  1.0000000010279626\n",
      "delta val train error:  1.0000000031103427\n"
     ]
    }
   ],
   "source": [
    "lin_mean_train, lin_mean_val, lin_delta_train, lin_delta_val = get_all_errors(pred_lin[:7000], pred_lin[7000:], feats_nu_to7[:7000], feats_nu_to7[7000:])\n",
    "print(\"mean train error: \",lin_mean_train )\n",
    "print(\"mean test error: \",lin_mean_val )\n",
    "print(\"delta train error: \",lin_delta_train )\n",
    "print(\"delta val train error: \",lin_delta_val )\n"
   ]
  },
  {
   "cell_type": "code",
   "execution_count": 19,
   "id": "e438429e",
   "metadata": {
    "ExecuteTime": {
     "end_time": "2023-05-06T07:47:36.038607Z",
     "start_time": "2023-05-06T07:47:09.026679Z"
    },
    "hidden": true,
    "scrolled": true
   },
   "outputs": [
    {
     "name": "stdout",
     "output_type": "stream",
     "text": [
      "0.011056593343501751 1.0000536525794215\n"
     ]
    },
    {
     "data": {
      "image/png": "[encoded data removed]",
      "text/plain": [
       "<Figure size 640x480 with 1 Axes>"
      ]
     },
     "metadata": {},
     "output_type": "display_data"
    },
    {
     "data": {
      "image/png": "[encoded data removed]",
      "text/plain": [
       "<Figure size 640x480 with 1 Axes>"
      ]
     },
     "metadata": {},
     "output_type": "display_data"
    }
   ],
   "source": [
    "plt.plot((pred_lin[::2]+pred_lin[1::2])[ntrain//2:]/2, (target[::2]+target[1::2])[ntrain//2:]/2,'b.')\n",
    "plt.title(\"mean\")\n",
    "plt.figure()\n",
    "plt.plot((pred_lin[::2]-pred_lin[1::2])[ntrain//2:], (target[::2]-target[1::2])[ntrain//2:],'b.')\n",
    "plt.title('delta')\n",
    "print( \n",
    "    np.sqrt(np.mean( ((pred_lin[::2]+pred_lin[1::2]).flatten()[ntrain//2:]/2-(target[::2]+target[1::2]).flatten()[ntrain//2:]/2)**2 )) /np.std(target)\n",
    "    ,\n",
    "    np.sqrt(np.mean( ((pred_lin[::2]-pred_lin[1::2]).flatten()[ntrain//2:]-(target[::2]-target[1::2]).flatten()[ntrain//2:])**2 )) /np.std(target[::2]-target[1::2])     \n",
    "     )"
   ]
  },
  {
   "cell_type": "markdown",
   "id": "ddae0941",
   "metadata": {
    "heading_collapsed": true,
    "hidden": true
   },
   "source": [
    "### non-linear"
   ]
  },
  {
   "cell_type": "code",
   "execution_count": 3,
   "id": "292c441b",
   "metadata": {
    "ExecuteTime": {
     "end_time": "2023-05-26T13:31:21.840609Z",
     "start_time": "2023-05-26T13:31:21.462098Z"
    },
    "hidden": true
   },
   "outputs": [
    {
     "ename": "FileNotFoundError",
     "evalue": "[Errno 2] No such file or directory: 'bisp/pred_feat/silu_nl8k.npy'",
     "output_type": "error",
     "traceback": [
      "\u001b[0;31m---------------------------------------------------------------------------\u001b[0m",
      "\u001b[0;31mFileNotFoundError\u001b[0m                         Traceback (most recent call last)",
      "Cell \u001b[0;32mIn [3], line 1\u001b[0m\n\u001b[0;32m----> 1\u001b[0m pred_nl \u001b[38;5;241m=\u001b[39m \u001b[43mnp\u001b[49m\u001b[38;5;241;43m.\u001b[39;49m\u001b[43mload\u001b[49m\u001b[43m(\u001b[49m\u001b[38;5;124;43m'\u001b[39;49m\u001b[38;5;124;43mbisp/pred_feat/silu_nl8k.npy\u001b[39;49m\u001b[38;5;124;43m'\u001b[39;49m\u001b[43m)\u001b[49m\n",
      "File \u001b[0;32m~/miniconda3/lib/python3.10/site-packages/numpy/lib/npyio.py:405\u001b[0m, in \u001b[0;36mload\u001b[0;34m(file, mmap_mode, allow_pickle, fix_imports, encoding, max_header_size)\u001b[0m\n\u001b[1;32m    403\u001b[0m     own_fid \u001b[38;5;241m=\u001b[39m \u001b[38;5;28;01mFalse\u001b[39;00m\n\u001b[1;32m    404\u001b[0m \u001b[38;5;28;01melse\u001b[39;00m:\n\u001b[0;32m--> 405\u001b[0m     fid \u001b[38;5;241m=\u001b[39m stack\u001b[38;5;241m.\u001b[39menter_context(\u001b[38;5;28;43mopen\u001b[39;49m\u001b[43m(\u001b[49m\u001b[43mos_fspath\u001b[49m\u001b[43m(\u001b[49m\u001b[43mfile\u001b[49m\u001b[43m)\u001b[49m\u001b[43m,\u001b[49m\u001b[43m \u001b[49m\u001b[38;5;124;43m\"\u001b[39;49m\u001b[38;5;124;43mrb\u001b[39;49m\u001b[38;5;124;43m\"\u001b[39;49m\u001b[43m)\u001b[49m)\n\u001b[1;32m    406\u001b[0m     own_fid \u001b[38;5;241m=\u001b[39m \u001b[38;5;28;01mTrue\u001b[39;00m\n\u001b[1;32m    408\u001b[0m \u001b[38;5;66;03m# Code to distinguish from NumPy binary files and pickles.\u001b[39;00m\n",
      "\u001b[0;31mFileNotFoundError\u001b[0m: [Errno 2] No such file or directory: 'bisp/pred_feat/silu_nl8k.npy'"
     ]
    }
   ],
   "source": [
    "pred_nl = np.load('bispectrum_counter/boron/pred_feat/silu_nl8k.npy')"
   ]
  },
  {
   "cell_type": "code",
   "execution_count": 23,
   "id": "346056c9",
   "metadata": {
    "ExecuteTime": {
     "end_time": "2023-05-06T07:56:54.917025Z",
     "start_time": "2023-05-06T07:56:52.041390Z"
    },
    "hidden": true
   },
   "outputs": [
    {
     "name": "stdout",
     "output_type": "stream",
     "text": [
      "target_train.shape (7000, 8000)\n",
      "target_val.shape (1000, 8000)\n",
      "mean train error:  0.004352581283773807\n",
      "mean test error:  0.006698606461081356\n",
      "delta train error:  0.125429454333545\n",
      "delta val train error:  0.14332104851049665\n"
     ]
    }
   ],
   "source": [
    "nl_mean_train, nl_mean_val, nl_delta_train, nl_delta_val = get_all_errors(pred_nl[:7000], pred_nl[7000:], feats_nu_to7[:7000], feats_nu_to7[7000:])\n",
    "\n",
    "print(\"mean train error: \",nl_mean_train )\n",
    "print(\"mean test error: \",nl_mean_val )\n",
    "print(\"delta train error: \",nl_delta_train )\n",
    "print(\"delta val train error: \",nl_delta_val )"
   ]
  },
  {
   "cell_type": "code",
   "execution_count": 20,
   "id": "774e5309",
   "metadata": {
    "ExecuteTime": {
     "end_time": "2023-05-06T07:48:30.256513Z",
     "start_time": "2023-05-06T07:48:03.882328Z"
    },
    "hidden": true,
    "scrolled": true
   },
   "outputs": [
    {
     "name": "stdout",
     "output_type": "stream",
     "text": [
      "0.004700671671458836 0.12762845331134298\n"
     ]
    },
    {
     "data": {
      "image/png": "[encoded data removed]",
      "text/plain": [
       "<Figure size 640x480 with 1 Axes>"
      ]
     },
     "metadata": {},
     "output_type": "display_data"
    },
    {
     "data": {
      "image/png": "[encoded data removed]",
      "text/plain": [
       "<Figure size 640x480 with 1 Axes>"
      ]
     },
     "metadata": {},
     "output_type": "display_data"
    }
   ],
   "source": [
    "plt.plot((pred_nl[::2]+pred_nl[1::2])[ntrain//2:]/2, (target[::2]+target[1::2])[ntrain//2:]/2,'b.')\n",
    "plt.title(\"mean\")\n",
    "plt.figure()\n",
    "plt.plot((pred_nl[::2]-pred_nl[1::2])[ntrain//2:], (target[::2]-target[1::2])[ntrain//2:],'b.')\n",
    "plt.title('delta')\n",
    "print( \n",
    "    np.sqrt(np.mean( ((pred_nl[::2]+pred_nl[1::2]).flatten()[ntrain//2:]/2-(target[::2]+target[1::2]).flatten()[ntrain//2:]/2)**2 )) /np.std(target)\n",
    "    ,\n",
    "    np.sqrt(np.mean( ((pred_nl[::2]-pred_nl[1::2]).flatten()[ntrain//2:]-(target[::2]-target[1::2]).flatten()[ntrain//2:])**2 )) /np.std(target[::2]-target[1::2])     \n",
    "     )"
   ]
  },
  {
   "cell_type": "markdown",
   "id": "b980fba1",
   "metadata": {},
   "source": [
    "## Intermediate Energies"
   ]
  },
  {
   "cell_type": "code",
   "execution_count": 50,
   "id": "4a44ae59",
   "metadata": {
    "ExecuteTime": {
     "end_time": "2023-08-09T19:33:39.340428Z",
     "start_time": "2023-08-09T19:33:37.874103Z"
    }
   },
   "outputs": [],
   "source": [
    "e0 = -198.27291671238572\n",
    "from ase.io import read\n",
    "import ast \n",
    "frames = read('bispectrum_counter/boron/boron_8000_pbeccpvdz.xyz', ':8000')\n",
    "for fi, f in enumerate(frames):\n",
    "    f.info[\"energy_rel\"] = (f.info[\"energy_ha\"]-e0)#*Hartree\n",
    "    for n, v in zip( (\"index\", \"label\",\"r\", \"z_1\", \"z_2\", \"psi\", \"phi_1\", \"phi_2\"), ast.literal_eval(f.info[\"pars\"]) ):\n",
    "        f.info[n] = v \n",
    "    if fi%2 ==1:\n",
    "        frames[fi].info[\"delta\"] = np.abs(frames[fi].info[\"energy_rel\"]-frames[fi-1].info[\"energy_rel\"])\n",
    "        frames[fi-1].info[\"delta\"] = frames[fi].info[\"delta\"]\n",
    "energy = np.asarray([f.info[\"energy_rel\"] for f in frames])"
   ]
  },
  {
   "cell_type": "markdown",
   "id": "5479c657",
   "metadata": {},
   "source": [
    "### from lin, lin decoder"
   ]
  },
  {
   "cell_type": "code",
   "execution_count": 178,
   "id": "1eca43f1",
   "metadata": {
    "ExecuteTime": {
     "end_time": "2023-06-02T12:51:14.143852Z",
     "start_time": "2023-06-02T12:51:14.140579Z"
    }
   },
   "outputs": [],
   "source": [
    "pred_fromlinlin = np.load('bispectrum_counter/boron/pred_feat/energy/linlin_encoded_energy.npy')"
   ]
  },
  {
   "cell_type": "code",
   "execution_count": 179,
   "id": "b753bc54",
   "metadata": {
    "ExecuteTime": {
     "end_time": "2023-06-02T12:51:14.148071Z",
     "start_time": "2023-06-02T12:51:14.144922Z"
    }
   },
   "outputs": [
    {
     "name": "stdout",
     "output_type": "stream",
     "text": [
      "target_train.shape (7000,)\n",
      "target_val.shape (1000,)\n",
      "normalized\n",
      "mean train error:  0.4102880759959699\n",
      "mean test error:  0.39092258408261604\n",
      "delta train error:  1.0000023733357435\n",
      "delta val train error:  1.0001233914499326\n"
     ]
    }
   ],
   "source": [
    "fromlinlin_mean_train, fromlinlin_mean_val, fromlinlin_delta_train, fromlinlin_delta_val = get_all_errors(pred_fromlinlin[:7000], pred_fromlinlin[7000:], energy[:7000], energy[7000:])\n",
    "print(\"mean train error: \",fromlinlin_mean_train )\n",
    "print(\"mean test error: \",fromlinlin_mean_val )\n",
    "print(\"delta train error: \",fromlinlin_delta_train )\n",
    "print(\"delta val train error: \",fromlinlin_delta_val )"
   ]
  },
  {
   "cell_type": "code",
   "execution_count": 180,
   "id": "aabf15c3",
   "metadata": {
    "ExecuteTime": {
     "end_time": "2023-06-02T12:51:14.152668Z",
     "start_time": "2023-06-02T12:51:14.149662Z"
    }
   },
   "outputs": [
    {
     "name": "stdout",
     "output_type": "stream",
     "text": [
      "target_train.shape (7000,)\n",
      "target_val.shape (1000,)\n",
      "ABSOLUTE in eV\n",
      "mean train error:  1.5759592795062207\n",
      "mean test error:  1.667459562567401\n",
      "delta train error:  0.2501269133409327\n",
      "delta val train error:  0.24509101376412618\n"
     ]
    }
   ],
   "source": [
    "fromlinlin_mean_train, fromlinlin_mean_val, fromlinlin_delta_train, fromlinlin_delta_val = get_all_errors(pred_fromlinlin[:7000], pred_fromlinlin[7000:], energy[:7000], energy[7000:],relative=False)\n",
    "print(\"ABSOLUTE in eV\")\n",
    "print(\"mean train error: \",fromlinlin_mean_train*Hartree)\n",
    "print(\"mean test error: \",fromlinlin_mean_val*Hartree )\n",
    "print(\"delta train error: \",fromlinlin_delta_train*Hartree )\n",
    "print(\"delta val train error: \",fromlinlin_delta_val*Hartree )"
   ]
  },
  {
   "cell_type": "markdown",
   "id": "01f73895",
   "metadata": {},
   "source": [
    "### lin encoder, non linear decoder"
   ]
  },
  {
   "cell_type": "code",
   "execution_count": 181,
   "id": "f9101479",
   "metadata": {
    "ExecuteTime": {
     "end_time": "2023-06-02T12:51:14.165823Z",
     "start_time": "2023-06-02T12:51:14.163484Z"
    }
   },
   "outputs": [],
   "source": [
    "pred_fromlin = np.load('bispectrum_counter/boron/pred_feat/energy/lin_encoded_energy.npy')"
   ]
  },
  {
   "cell_type": "code",
   "execution_count": 182,
   "id": "811fb42b",
   "metadata": {
    "ExecuteTime": {
     "end_time": "2023-06-02T12:51:14.455549Z",
     "start_time": "2023-06-02T12:51:14.447309Z"
    }
   },
   "outputs": [
    {
     "name": "stdout",
     "output_type": "stream",
     "text": [
      "target_train.shape (7000,)\n",
      "target_val.shape (1000,)\n",
      "normalized\n",
      "mean train error:  0.028345945048963726\n",
      "mean test error:  0.1726140448410326\n",
      "delta train error:  1.0000023680757848\n",
      "delta val train error:  1.0001234075849286\n"
     ]
    }
   ],
   "source": [
    "fromlin_mean_train, fromlin_mean_val, fromlin_delta_train, fromlin_delta_val = get_all_errors(pred_fromlin[:7000], pred_fromlin[7000:], energy[:7000], energy[7000:])\n",
    "print(\"mean train error: \",fromlin_mean_train )\n",
    "print(\"mean test error: \",fromlin_mean_val )\n",
    "print(\"delta train error: \",fromlin_delta_train )\n",
    "print(\"delta val train error: \",fromlin_delta_val )\n"
   ]
  },
  {
   "cell_type": "code",
   "execution_count": 183,
   "id": "aa6c9d26",
   "metadata": {
    "ExecuteTime": {
     "end_time": "2023-06-02T12:51:14.773959Z",
     "start_time": "2023-06-02T12:51:14.766208Z"
    }
   },
   "outputs": [
    {
     "name": "stdout",
     "output_type": "stream",
     "text": [
      "target_train.shape (7000,)\n",
      "target_val.shape (1000,)\n",
      "ABSOLUTE in eV\n",
      "mean train error:  0.10887973048655353\n",
      "mean test error:  0.7362760593099674\n",
      "delta train error:  0.2501269120252786\n",
      "delta val train error:  0.24509101771818081\n"
     ]
    }
   ],
   "source": [
    "fromlin_mean_train, fromlin_mean_val, fromlin_delta_train, fromlin_delta_val = get_all_errors(pred_fromlin[:7000], pred_fromlin[7000:], energy[:7000], energy[7000:],relative=False)\n",
    "\n",
    "print(\"ABSOLUTE in eV\")\n",
    "print(\"mean train error: \",fromlin_mean_train*Hartree)\n",
    "print(\"mean test error: \",fromlin_mean_val*Hartree )\n",
    "print(\"delta train error: \",fromlin_delta_train*Hartree )\n",
    "print(\"delta val train error: \",fromlin_delta_val*Hartree )"
   ]
  },
  {
   "cell_type": "markdown",
   "id": "49508c1a",
   "metadata": {
    "ExecuteTime": {
     "end_time": "2023-05-06T07:44:29.161021Z",
     "start_time": "2023-05-06T07:44:29.158329Z"
    }
   },
   "source": [
    "### from nl "
   ]
  },
  {
   "cell_type": "code",
   "execution_count": 184,
   "id": "2a84fb47",
   "metadata": {
    "ExecuteTime": {
     "end_time": "2023-06-02T12:51:15.272944Z",
     "start_time": "2023-06-02T12:51:15.266977Z"
    }
   },
   "outputs": [],
   "source": [
    "pred_fromnl = np.load('bispectrum_counter/boron/pred_feat/energy/nl_encoded_energy.npy')"
   ]
  },
  {
   "cell_type": "code",
   "execution_count": 185,
   "id": "acadee46",
   "metadata": {
    "ExecuteTime": {
     "end_time": "2023-06-02T12:51:15.472057Z",
     "start_time": "2023-06-02T12:51:15.463924Z"
    }
   },
   "outputs": [
    {
     "name": "stdout",
     "output_type": "stream",
     "text": [
      "target_train.shape (7000,)\n",
      "target_val.shape (1000,)\n",
      "normalized\n",
      "mean train error:  0.0015317472814490897\n",
      "mean test error:  0.11033838259912912\n",
      "delta train error:  0.048115292051536425\n",
      "delta val train error:  0.45723273101822215\n"
     ]
    }
   ],
   "source": [
    "fromnl_mean_train, fromnl_mean_val, fromnl_delta_train, fromnl_delta_val = get_all_errors(pred_fromnl[:7000], pred_fromnl[7000:], energy[:7000], energy[7000:])\n",
    "print(\"mean train error: \",fromnl_mean_train )\n",
    "print(\"mean test error: \",fromnl_mean_val )\n",
    "print(\"delta train error: \",fromnl_delta_train )\n",
    "print(\"delta val train error: \",fromnl_delta_val )"
   ]
  },
  {
   "cell_type": "code",
   "execution_count": 186,
   "id": "a12198bb",
   "metadata": {
    "ExecuteTime": {
     "end_time": "2023-06-02T12:51:15.661029Z",
     "start_time": "2023-06-02T12:51:15.651225Z"
    }
   },
   "outputs": [
    {
     "name": "stdout",
     "output_type": "stream",
     "text": [
      "target_train.shape (7000,)\n",
      "target_val.shape (1000,)\n",
      "ABSOLUTE in eV\n",
      "mean train error:  0.005883601019108903\n",
      "mean test error:  0.4706425227769797\n",
      "delta train error:  0.012034900922487789\n",
      "delta val train error:  0.11204980758317373\n"
     ]
    }
   ],
   "source": [
    "fromnl_mean_train, fromnl_mean_val, fromnl_delta_train, fromnl_delta_val = get_all_errors(pred_fromnl[:7000], pred_fromnl[7000:], energy[:7000], energy[7000:], relative=False)\n",
    "print(\"ABSOLUTE in eV\")\n",
    "print(\"mean train error: \",fromnl_mean_train *Hartree)\n",
    "print(\"mean test error: \",fromnl_mean_val*Hartree )\n",
    "print(\"delta train error: \",fromnl_delta_train*Hartree )\n",
    "print(\"delta val train error: \",fromnl_delta_val*Hartree )"
   ]
  },
  {
   "cell_type": "markdown",
   "id": "08dbc357",
   "metadata": {},
   "source": [
    "## Energies "
   ]
  },
  {
   "cell_type": "markdown",
   "id": "af6f5f89",
   "metadata": {},
   "source": [
    "### lin"
   ]
  },
  {
   "cell_type": "code",
   "execution_count": 187,
   "id": "d5d8dcd7",
   "metadata": {
    "ExecuteTime": {
     "end_time": "2023-06-02T12:51:16.265684Z",
     "start_time": "2023-06-02T12:51:16.258542Z"
    }
   },
   "outputs": [],
   "source": [
    "pred_lin = np.load('bispectrum_counter/boron/pred_energy/batchmc2_lin_triple_energy_LBFGS.npy')"
   ]
  },
  {
   "cell_type": "code",
   "execution_count": 188,
   "id": "39ec564b",
   "metadata": {
    "ExecuteTime": {
     "end_time": "2023-06-02T12:51:16.472783Z",
     "start_time": "2023-06-02T12:51:16.464831Z"
    }
   },
   "outputs": [
    {
     "name": "stdout",
     "output_type": "stream",
     "text": [
      "target_train.shape (7000,)\n",
      "target_val.shape (1000,)\n",
      "normalized\n",
      "mean train error:  0.41694461033341307\n",
      "mean test error:  0.38510917844709885\n",
      "delta train error:  1.0000023738252333\n",
      "delta val train error:  1.0001233879584155\n"
     ]
    }
   ],
   "source": [
    "lin_mean_train, lin_mean_val, lin_delta_train, lin_delta_val = get_all_errors(pred_lin[:7000], pred_lin[7000:], energy[:7000], energy[7000:])\n",
    "print(\"mean train error: \",lin_mean_train )\n",
    "print(\"mean test error: \",lin_mean_val )\n",
    "print(\"delta train error: \",lin_delta_train )\n",
    "print(\"delta val train error: \",lin_delta_val )\n"
   ]
  },
  {
   "cell_type": "code",
   "execution_count": 189,
   "id": "a2dd7af2",
   "metadata": {
    "ExecuteTime": {
     "end_time": "2023-06-02T12:51:16.741651Z",
     "start_time": "2023-06-02T12:51:16.732973Z"
    }
   },
   "outputs": [
    {
     "name": "stdout",
     "output_type": "stream",
     "text": [
      "target_train.shape (7000,)\n",
      "target_val.shape (1000,)\n",
      "ABSOLUTE in eV\n",
      "mean train error:  1.6015277219548099\n",
      "mean test error:  1.6426627889535803\n",
      "delta train error:  0.2501269134633669\n",
      "delta val train error:  0.24509101290849228\n"
     ]
    }
   ],
   "source": [
    "lin_mean_train, lin_mean_val, lin_delta_train, lin_delta_val = get_all_errors(pred_lin[:7000], pred_lin[7000:], energy[:7000], energy[7000:], relative=False)\n",
    "print(\"ABSOLUTE in eV\")\n",
    "print(\"mean train error: \",lin_mean_train *Hartree)\n",
    "print(\"mean test error: \",lin_mean_val*Hartree )\n",
    "print(\"delta train error: \",lin_delta_train*Hartree )\n",
    "print(\"delta val train error: \",lin_delta_val*Hartree )\n"
   ]
  },
  {
   "cell_type": "markdown",
   "id": "7254b886",
   "metadata": {
    "ExecuteTime": {
     "end_time": "2023-05-06T08:04:34.016539Z",
     "start_time": "2023-05-06T08:04:34.012446Z"
    }
   },
   "source": [
    "### nl"
   ]
  },
  {
   "cell_type": "code",
   "execution_count": 51,
   "id": "39f66abd",
   "metadata": {
    "ExecuteTime": {
     "end_time": "2023-08-09T19:33:46.096547Z",
     "start_time": "2023-08-09T19:33:46.089464Z"
    }
   },
   "outputs": [],
   "source": [
    "pred_nl = np.load('bispectrum_counter/boron/pred_energy/batchmc2_nl_triple_energy.npy')"
   ]
  },
  {
   "cell_type": "code",
   "execution_count": 191,
   "id": "c5c27191",
   "metadata": {
    "ExecuteTime": {
     "end_time": "2023-06-02T12:51:17.457659Z",
     "start_time": "2023-06-02T12:51:17.448799Z"
    }
   },
   "outputs": [
    {
     "name": "stdout",
     "output_type": "stream",
     "text": [
      "target_train.shape (7000,)\n",
      "target_val.shape (1000,)\n",
      "normalized\n",
      "mean train error:  0.005046620069444155\n",
      "mean test error:  0.01769675861276713\n",
      "delta train error:  0.10702010166137249\n",
      "delta val train error:  0.19968327419839013\n"
     ]
    }
   ],
   "source": [
    "nl_mean_train, nl_mean_val, nl_delta_train, nl_delta_val = get_all_errors(pred_nl[:7000], pred_nl[7000:], energy[:7000], energy[7000:])\n",
    "print(\"mean train error: \",nl_mean_train )\n",
    "print(\"mean test error: \",nl_mean_val )\n",
    "print(\"delta train error: \",nl_delta_train )\n",
    "print(\"delta val train error: \",nl_delta_val )\n"
   ]
  },
  {
   "cell_type": "code",
   "execution_count": 192,
   "id": "ca3197db",
   "metadata": {
    "ExecuteTime": {
     "end_time": "2023-06-02T12:51:17.679928Z",
     "start_time": "2023-06-02T12:51:17.670856Z"
    }
   },
   "outputs": [
    {
     "name": "stdout",
     "output_type": "stream",
     "text": [
      "target_train.shape (7000,)\n",
      "target_val.shape (1000,)\n",
      "ABSOLUTE in eV\n",
      "mean train error:  0.01938459388388603\n",
      "mean test error:  0.07548458589199677\n",
      "delta train error:  0.026768544163249256\n",
      "delta val train error:  0.04893453800142764\n"
     ]
    }
   ],
   "source": [
    "nl_mean_train, nl_mean_val, nl_delta_train, nl_delta_val = get_all_errors(pred_nl[:7000], pred_nl[7000:], energy[:7000], energy[7000:], relative=False)\n",
    "print(\"ABSOLUTE in eV\")\n",
    "print(\"mean train error: \",nl_mean_train*Hartree )\n",
    "print(\"mean test error: \",nl_mean_val*Hartree )\n",
    "print(\"delta train error: \",nl_delta_train*Hartree )\n",
    "print(\"delta val train error: \",nl_delta_val*Hartree )\n"
   ]
  },
  {
   "cell_type": "markdown",
   "id": "690fbaaa",
   "metadata": {},
   "source": [
    "### nu7 lin"
   ]
  },
  {
   "cell_type": "code",
   "execution_count": 193,
   "id": "c17da6d6",
   "metadata": {
    "ExecuteTime": {
     "end_time": "2023-06-02T12:51:18.130754Z",
     "start_time": "2023-06-02T12:51:18.123974Z"
    }
   },
   "outputs": [],
   "source": [
    "pred_nu7lin = np.load('bispectrum_counter/boron/pred_energy/nu7_lin_single_energy.npy')"
   ]
  },
  {
   "cell_type": "code",
   "execution_count": 194,
   "id": "b1f3e280",
   "metadata": {
    "ExecuteTime": {
     "end_time": "2023-06-02T12:51:18.324369Z",
     "start_time": "2023-06-02T12:51:18.315517Z"
    }
   },
   "outputs": [
    {
     "name": "stdout",
     "output_type": "stream",
     "text": [
      "target_train.shape (7000,)\n",
      "target_val.shape (1000,)\n",
      "normalized\n",
      "mean train error:  0.0740768270424306\n",
      "mean test error:  0.12722941060106222\n",
      "delta train error:  0.5504812065564629\n",
      "delta val train error:  0.8875893087214347\n"
     ]
    }
   ],
   "source": [
    "nu7lin_mean_train, nu7lin_mean_val, nu7lin_delta_train, nu7lin_delta_val = get_all_errors(pred_nu7lin[:7000], pred_nu7lin[7000:], energy[:7000], energy[7000:])\n",
    "print(\"mean train error: \",nu7lin_mean_train )\n",
    "print(\"mean test error: \",nu7lin_mean_val )\n",
    "print(\"delta train error: \",nu7lin_delta_train )\n",
    "print(\"delta val train error: \",nu7lin_delta_val )\n"
   ]
  },
  {
   "cell_type": "code",
   "execution_count": 195,
   "id": "088268ea",
   "metadata": {
    "ExecuteTime": {
     "end_time": "2023-06-02T12:51:18.522912Z",
     "start_time": "2023-06-02T12:51:18.516867Z"
    }
   },
   "outputs": [
    {
     "name": "stdout",
     "output_type": "stream",
     "text": [
      "target_train.shape (7000,)\n",
      "target_val.shape (1000,)\n",
      "ABSOLUTE in eV\n",
      "mean train error:  0.28453681645635387\n",
      "mean test error:  0.5426903074541237\n",
      "delta train error:  0.1376898382639458\n",
      "delta val train error:  0.21751332419628416\n"
     ]
    }
   ],
   "source": [
    "nu7lin_mean_train, nu7lin_mean_val, nu7lin_delta_train, nu7lin_delta_val = get_all_errors(pred_nu7lin[:7000], pred_nu7lin[7000:], energy[:7000], energy[7000:], relative=False)\n",
    "print(\"ABSOLUTE in eV\")\n",
    "print(\"mean train error: \",nu7lin_mean_train *Hartree)\n",
    "print(\"mean test error: \",nu7lin_mean_val *Hartree)\n",
    "print(\"delta train error: \",nu7lin_delta_train *Hartree)\n",
    "print(\"delta val train error: \",nu7lin_delta_val*Hartree )\n"
   ]
  },
  {
   "cell_type": "markdown",
   "id": "0a340bb0",
   "metadata": {},
   "source": [
    "### nu7 nl "
   ]
  },
  {
   "cell_type": "code",
   "execution_count": 52,
   "id": "09c612a9",
   "metadata": {
    "ExecuteTime": {
     "end_time": "2023-08-09T19:33:49.662511Z",
     "start_time": "2023-08-09T19:33:49.655725Z"
    }
   },
   "outputs": [],
   "source": [
    "pred_nu7nl = np.load('bispectrum_counter/boron/pred_energy/nu7_nl_single_energy.npy')"
   ]
  },
  {
   "cell_type": "code",
   "execution_count": 197,
   "id": "90aa04e9",
   "metadata": {
    "ExecuteTime": {
     "end_time": "2023-06-02T12:51:19.054289Z",
     "start_time": "2023-06-02T12:51:19.045550Z"
    }
   },
   "outputs": [
    {
     "name": "stdout",
     "output_type": "stream",
     "text": [
      "target_train.shape (7000,)\n",
      "target_val.shape (1000,)\n",
      "normalized\n",
      "mean train error:  0.045195934344062376\n",
      "mean test error:  0.10036617514867005\n",
      "delta train error:  0.21180563558062157\n",
      "delta val train error:  0.431465478175408\n"
     ]
    }
   ],
   "source": [
    "nu7nl_mean_train, nu7nl_mean_val, nu7nl_delta_train, nu7nl_delta_val = get_all_errors(pred_nu7nl[:7000], pred_nu7nl[7000:], energy[:7000], energy[7000:])\n",
    "print(\"mean train error: \",nu7nl_mean_train )\n",
    "print(\"mean test error: \",nu7nl_mean_val )\n",
    "print(\"delta train error: \",nu7nl_delta_train )\n",
    "print(\"delta val train error: \",nu7nl_delta_val )\n"
   ]
  },
  {
   "cell_type": "code",
   "execution_count": 198,
   "id": "aa6ed533",
   "metadata": {
    "ExecuteTime": {
     "end_time": "2023-06-02T12:51:19.231514Z",
     "start_time": "2023-06-02T12:51:19.222875Z"
    }
   },
   "outputs": [
    {
     "name": "stdout",
     "output_type": "stream",
     "text": [
      "target_train.shape (7000,)\n",
      "target_val.shape (1000,)\n",
      "ABSOLUTE in eV\n",
      "mean train error:  0.17360229627092216\n",
      "mean test error:  0.4281066004480213\n",
      "delta train error:  0.05297816412102476\n",
      "delta val train error:  0.1057352646226234\n"
     ]
    }
   ],
   "source": [
    "nu7nl_mean_train, nu7nl_mean_val, nu7nl_delta_train, nu7nl_delta_val = get_all_errors(pred_nu7nl[:7000], pred_nu7nl[7000:], energy[:7000], energy[7000:], relative=False)\n",
    "print(\"ABSOLUTE in eV\")\n",
    "print(\"mean train error: \",nu7nl_mean_train*Hartree )\n",
    "print(\"mean test error: \",nu7nl_mean_val*Hartree )\n",
    "print(\"delta train error: \",nu7nl_delta_train *Hartree)\n",
    "print(\"delta val train error: \",nu7nl_delta_val*Hartree )"
   ]
  },
  {
   "cell_type": "markdown",
   "id": "89ef64c1",
   "metadata": {
    "heading_collapsed": true
   },
   "source": [
    "### nu7 lin lbfgs"
   ]
  },
  {
   "cell_type": "code",
   "execution_count": 199,
   "id": "9cd8af2a",
   "metadata": {
    "ExecuteTime": {
     "end_time": "2023-06-02T12:51:19.697870Z",
     "start_time": "2023-06-02T12:51:19.667127Z"
    },
    "hidden": true
   },
   "outputs": [
    {
     "ename": "FileNotFoundError",
     "evalue": "[Errno 2] No such file or directory: 'bisp/pred_energy/nu7_lin_single_energy_LBFGS.npy'",
     "output_type": "error",
     "traceback": [
      "\u001b[0;31m---------------------------------------------------------------------------\u001b[0m",
      "\u001b[0;31mFileNotFoundError\u001b[0m                         Traceback (most recent call last)",
      "Cell \u001b[0;32mIn [199], line 1\u001b[0m\n\u001b[0;32m----> 1\u001b[0m pred_nu7lin_lbfgs \u001b[38;5;241m=\u001b[39m \u001b[43mnp\u001b[49m\u001b[38;5;241;43m.\u001b[39;49m\u001b[43mload\u001b[49m\u001b[43m(\u001b[49m\u001b[38;5;124;43m'\u001b[39;49m\u001b[38;5;124;43mbisp/pred_energy/nu7_lin_single_energy_LBFGS.npy\u001b[39;49m\u001b[38;5;124;43m'\u001b[39;49m\u001b[43m)\u001b[49m\n",
      "File \u001b[0;32m~/miniconda3/lib/python3.10/site-packages/numpy/lib/npyio.py:405\u001b[0m, in \u001b[0;36mload\u001b[0;34m(file, mmap_mode, allow_pickle, fix_imports, encoding, max_header_size)\u001b[0m\n\u001b[1;32m    403\u001b[0m     own_fid \u001b[38;5;241m=\u001b[39m \u001b[38;5;28;01mFalse\u001b[39;00m\n\u001b[1;32m    404\u001b[0m \u001b[38;5;28;01melse\u001b[39;00m:\n\u001b[0;32m--> 405\u001b[0m     fid \u001b[38;5;241m=\u001b[39m stack\u001b[38;5;241m.\u001b[39menter_context(\u001b[38;5;28;43mopen\u001b[39;49m\u001b[43m(\u001b[49m\u001b[43mos_fspath\u001b[49m\u001b[43m(\u001b[49m\u001b[43mfile\u001b[49m\u001b[43m)\u001b[49m\u001b[43m,\u001b[49m\u001b[43m \u001b[49m\u001b[38;5;124;43m\"\u001b[39;49m\u001b[38;5;124;43mrb\u001b[39;49m\u001b[38;5;124;43m\"\u001b[39;49m\u001b[43m)\u001b[49m)\n\u001b[1;32m    406\u001b[0m     own_fid \u001b[38;5;241m=\u001b[39m \u001b[38;5;28;01mTrue\u001b[39;00m\n\u001b[1;32m    408\u001b[0m \u001b[38;5;66;03m# Code to distinguish from NumPy binary files and pickles.\u001b[39;00m\n",
      "\u001b[0;31mFileNotFoundError\u001b[0m: [Errno 2] No such file or directory: 'bisp/pred_energy/nu7_lin_single_energy_LBFGS.npy'"
     ]
    }
   ],
   "source": [
    "pred_nu7lin_lbfgs = np.load('bisp/pred_energy/nu7_lin_single_energy_LBFGS.npy')"
   ]
  },
  {
   "cell_type": "code",
   "execution_count": 50,
   "id": "c86255fc",
   "metadata": {
    "ExecuteTime": {
     "end_time": "2023-05-06T08:16:41.592587Z",
     "start_time": "2023-05-06T08:16:41.586103Z"
    },
    "hidden": true
   },
   "outputs": [
    {
     "name": "stdout",
     "output_type": "stream",
     "text": [
      "target_train.shape (7000,)\n",
      "target_val.shape (1000,)\n",
      "mean train error:  0.08903491931752884\n",
      "mean test error:  0.1373534014579147\n",
      "delta train error:  0.904477867149621\n",
      "delta val train error:  1.349707934825516\n"
     ]
    }
   ],
   "source": [
    "nu7lin_lbfgs_mean_train, nu7lin_lbfgs_mean_val, nu7lin_lbfgs_delta_train, nu7lin_lbfgs_delta_val = get_all_errors(pred_nu7lin_lbfgs[:7000], pred_nu7lin_lbfgs[7000:], energy[:7000], energy[7000:])\n",
    "print(\"mean train error: \",nu7lin_lbfgs_mean_train )\n",
    "print(\"mean test error: \",nu7lin_lbfgs_mean_val )\n",
    "print(\"delta train error: \",nu7lin_lbfgs_delta_train )\n",
    "print(\"delta val train error: \",nu7lin_lbfgs_delta_val )\n"
   ]
  },
  {
   "cell_type": "code",
   "execution_count": null,
   "id": "5b4d884e",
   "metadata": {
    "hidden": true
   },
   "outputs": [],
   "source": []
  },
  {
   "cell_type": "code",
   "execution_count": null,
   "id": "d22e7e91",
   "metadata": {
    "hidden": true
   },
   "outputs": [],
   "source": []
  },
  {
   "cell_type": "markdown",
   "id": "bfd51741",
   "metadata": {},
   "source": [
    "### nu3 nl"
   ]
  },
  {
   "cell_type": "code",
   "execution_count": 53,
   "id": "4756e231",
   "metadata": {
    "ExecuteTime": {
     "end_time": "2023-08-09T19:33:53.248500Z",
     "start_time": "2023-08-09T19:33:53.241783Z"
    }
   },
   "outputs": [],
   "source": [
    "pred_nu3nl = np.load('bispectrum_counter/boron/pred_energy/nu3_nl_single_energy.npy')"
   ]
  },
  {
   "cell_type": "code",
   "execution_count": 201,
   "id": "c7e58901",
   "metadata": {
    "ExecuteTime": {
     "end_time": "2023-06-02T12:51:26.028391Z",
     "start_time": "2023-06-02T12:51:26.016520Z"
    }
   },
   "outputs": [
    {
     "name": "stdout",
     "output_type": "stream",
     "text": [
      "target_train.shape (7000,)\n",
      "target_val.shape (1000,)\n",
      "normalized\n",
      "mean train error:  0.03682488236125799\n",
      "mean test error:  0.1686216609441584\n",
      "delta train error:  1.000002365376443\n",
      "delta val train error:  1.0001233624553367\n"
     ]
    }
   ],
   "source": [
    "nu3nl_mean_train, nu3nl_mean_val, nu3nl_delta_train, nu3nl_delta_val = get_all_errors(pred_nu3nl[:7000], pred_nu3nl[7000:], energy[:7000], energy[7000:])\n",
    "print(\"mean train error: \",nu3nl_mean_train )\n",
    "print(\"mean test error: \",nu3nl_mean_val )\n",
    "print(\"delta train error: \",nu3nl_delta_train )\n",
    "print(\"delta val train error: \",nu3nl_delta_val )\n"
   ]
  },
  {
   "cell_type": "code",
   "execution_count": 202,
   "id": "b5613057",
   "metadata": {
    "ExecuteTime": {
     "end_time": "2023-06-02T12:51:26.205548Z",
     "start_time": "2023-06-02T12:51:26.197520Z"
    }
   },
   "outputs": [
    {
     "name": "stdout",
     "output_type": "stream",
     "text": [
      "target_train.shape (7000,)\n",
      "target_val.shape (1000,)\n",
      "ABSOLUTE in eV\n",
      "mean train error:  0.141448212778476\n",
      "mean test error:  0.7192467574037975\n",
      "delta train error:  0.2501269113501021\n",
      "delta val train error:  0.24509100665868805\n"
     ]
    }
   ],
   "source": [
    "nu3nl_mean_train, nu3nl_mean_val, nu3nl_delta_train, nu3nl_delta_val = get_all_errors(pred_nu3nl[:7000], pred_nu3nl[7000:], energy[:7000], energy[7000:], relative=False)\n",
    "print(\"ABSOLUTE in eV\")\n",
    "print(\"mean train error: \",nu3nl_mean_train*Hartree )\n",
    "print(\"mean test error: \",nu3nl_mean_val*Hartree )\n",
    "print(\"delta train error: \",nu3nl_delta_train*Hartree )\n",
    "print(\"delta val train error: \",nu3nl_delta_val*Hartree )\n"
   ]
  },
  {
   "cell_type": "markdown",
   "id": "3d7376f6",
   "metadata": {},
   "source": [
    "## nu3 lin"
   ]
  },
  {
   "cell_type": "code",
   "execution_count": 203,
   "id": "8799eb18",
   "metadata": {
    "ExecuteTime": {
     "end_time": "2023-06-02T12:51:26.578780Z",
     "start_time": "2023-06-02T12:51:26.570678Z"
    }
   },
   "outputs": [],
   "source": [
    "pred_nu3lin = np.load('bispectrum_counter/boron/pred_energy/nu3_lin_single_energy.npy')"
   ]
  },
  {
   "cell_type": "code",
   "execution_count": 204,
   "id": "3619b5fd",
   "metadata": {
    "ExecuteTime": {
     "end_time": "2023-06-02T12:51:26.941601Z",
     "start_time": "2023-06-02T12:51:26.933409Z"
    }
   },
   "outputs": [
    {
     "name": "stdout",
     "output_type": "stream",
     "text": [
      "target_train.shape (7000,)\n",
      "target_val.shape (1000,)\n",
      "normalized\n",
      "mean train error:  0.4103645475787769\n",
      "mean test error:  0.3890968069999996\n",
      "delta train error:  1.0000023738550745\n",
      "delta val train error:  1.0001233851570352\n"
     ]
    }
   ],
   "source": [
    "nu3lin_mean_train, nu3lin_mean_val, nu3lin_delta_train, nu3lin_delta_val = get_all_errors(pred_nu3lin[:7000], pred_nu3lin[7000:], energy[:7000], energy[7000:])\n",
    "print(\"mean train error: \",nu3lin_mean_train )\n",
    "print(\"mean test error: \",nu3lin_mean_val )\n",
    "print(\"delta train error: \",nu3lin_delta_train )\n",
    "print(\"delta val train error: \",nu3lin_delta_val )\n"
   ]
  },
  {
   "cell_type": "code",
   "execution_count": 205,
   "id": "3862a643",
   "metadata": {
    "ExecuteTime": {
     "end_time": "2023-06-02T12:51:27.500041Z",
     "start_time": "2023-06-02T12:51:27.493695Z"
    }
   },
   "outputs": [
    {
     "name": "stdout",
     "output_type": "stream",
     "text": [
      "target_train.shape (7000,)\n",
      "target_val.shape (1000,)\n",
      "ABSOLUTE in eV\n",
      "mean train error:  1.5762530148292633\n",
      "mean test error:  1.6596718071920764\n",
      "delta train error:  0.25012691347083105\n",
      "delta val train error:  0.2450910122219839\n"
     ]
    }
   ],
   "source": [
    "nu3lin_mean_train, nu3lin_mean_val, nu3lin_delta_train, nu3lin_delta_val = get_all_errors(pred_nu3lin[:7000], pred_nu3lin[7000:], energy[:7000], energy[7000:], relative=False)\n",
    "print(\"ABSOLUTE in eV\")\n",
    "print(\"mean train error: \",nu3lin_mean_train*Hartree )\n",
    "print(\"mean test error: \",nu3lin_mean_val*Hartree )\n",
    "print(\"delta train error: \",nu3lin_delta_train*Hartree )\n",
    "print(\"delta val train error: \",nu3lin_delta_val*Hartree )\n"
   ]
  },
  {
   "cell_type": "code",
   "execution_count": 55,
   "id": "b1f78462",
   "metadata": {
    "ExecuteTime": {
     "end_time": "2023-08-09T19:34:06.730101Z",
     "start_time": "2023-08-09T19:34:06.725565Z"
    }
   },
   "outputs": [],
   "source": [
    "ypred_n3 = pred_nu3nl\n",
    "ypred = pred_nl #pred_fromnl"
   ]
  },
  {
   "cell_type": "code",
   "execution_count": 56,
   "id": "a6c9c167",
   "metadata": {
    "ExecuteTime": {
     "end_time": "2023-08-09T19:34:07.429437Z",
     "start_time": "2023-08-09T19:34:07.247566Z"
    }
   },
   "outputs": [
    {
     "data": {
      "text/plain": [
       "<matplotlib.legend.Legend at 0x296421600>"
      ]
     },
     "execution_count": 56,
     "metadata": {},
     "output_type": "execute_result"
    },
    {
     "data": {
      "image/png": "[encoded data removed]",
      "text/plain": [
       "<Figure size 350x350 with 1 Axes>"
      ]
     },
     "metadata": {},
     "output_type": "display_data"
    }
   ],
   "source": [
    "fig, ax = plt.subplots(1, 1, figsize=(3.5,3.5), constrained_layout=True)\n",
    "\n",
    "ax.plot(np.hstack([energy[0:2:2],energy[1:2:2]])*Hartree, np.vstack([ypred_n3[:2:2],ypred_n3[1:2:2]])*Hartree,'r-', lw=1);\n",
    "ax.plot(energy[0:2:2]*Hartree,ypred_n3[0:2:2]*Hartree,'r',ls=\"\",marker='x',markersize=2, label=r\"$\\xi_q(A_i)=\\langle q|\\rho_i^{\\otimes{3}}\\rangle$\");\n",
    "ax.plot(energy[1:2:2]*Hartree,ypred_n3[1:2:2]*Hartree,'r',ls=\"\",marker='o',markersize=2);\n",
    "\n",
    "ax.plot(np.hstack([energy[:2:2],energy[1:2:2]])*Hartree, np.vstack([ypred[:2:2],ypred[1:2:2]])*Hartree,'b-', lw=1);\n",
    "ax.plot(energy[0:2:2]*Hartree,ypred[0:2:2]*Hartree,'b',ls=\"\",marker='x',markersize=2, label=r\"$\\tilde{\\xi}_p(A_i) =\\sum_{i_1,i_2}\\psi_p[|\\rho_{ii_1 i_2}^{\\otimes{1}}\\rangle]$\");\n",
    "ax.plot(energy[1:2:2]*Hartree,ypred[1:2:2]*Hartree,'b',ls=\"\",marker='o',markersize=2);\n",
    "\n",
    "# ax.set_xlim(6,12)\n",
    "# ax.set_ylim(6,12)\n",
    "ax.set_xlabel('energy / eV')\n",
    "ax.set_ylabel('predicted / eV')\n",
    "ax.legend()"
   ]
  },
  {
   "cell_type": "code",
   "execution_count": 57,
   "id": "b739a661",
   "metadata": {
    "ExecuteTime": {
     "end_time": "2023-08-09T19:34:07.826303Z",
     "start_time": "2023-08-09T19:34:07.819278Z"
    }
   },
   "outputs": [
    {
     "data": {
      "text/plain": [
       "(8000,)"
      ]
     },
     "execution_count": 57,
     "metadata": {},
     "output_type": "execute_result"
    }
   ],
   "source": [
    "energy.shape"
   ]
  },
  {
   "cell_type": "code",
   "execution_count": 195,
   "id": "79ecfef3",
   "metadata": {
    "ExecuteTime": {
     "end_time": "2023-08-02T21:42:40.462368Z",
     "start_time": "2023-08-02T21:42:40.088304Z"
    }
   },
   "outputs": [],
   "source": [
    "np.random.seed(45352)\n",
    "idx = [np.random.randint(pair_bis.shape[0]) for _ in range(200000)]"
   ]
  },
  {
   "cell_type": "code",
   "execution_count": 196,
   "id": "a8bdbbd9",
   "metadata": {
    "ExecuteTime": {
     "end_time": "2023-08-02T21:42:40.550863Z",
     "start_time": "2023-08-02T21:42:40.483255Z"
    }
   },
   "outputs": [],
   "source": [
    "alli = list(range(pair_bis.shape[0]))"
   ]
  },
  {
   "cell_type": "code",
   "execution_count": 204,
   "id": "4c501c8f",
   "metadata": {
    "ExecuteTime": {
     "end_time": "2023-08-02T21:44:34.102856Z",
     "start_time": "2023-08-02T21:44:33.517286Z"
    }
   },
   "outputs": [],
   "source": [
    "idxj = np.setdiff1d(alli, idx)\n",
    "idxk = np.setdiff1d(alli, idxj)\n",
    "idxl = np.setdiff1d(idxk, idxj)"
   ]
  },
  {
   "cell_type": "code",
   "execution_count": 96,
   "id": "1112de22",
   "metadata": {
    "ExecuteTime": {
     "end_time": "2023-08-09T22:04:50.569852Z",
     "start_time": "2023-08-09T22:04:45.990950Z"
    }
   },
   "outputs": [
    {
     "data": {
      "image/png": "[encoded data removed]",
      "text/plain": [
       "<Figure size 600x300 with 2 Axes>"
      ]
     },
     "metadata": {},
     "output_type": "display_data"
    }
   ],
   "source": [
    "fig, ax = plt.subplots(1, 2, figsize=(6,3), constrained_layout=True)\n",
    "idx1=1\n",
    "idx0=0\n",
    "\n",
    "# ax[idx0].loglog(pair_enc_nl[:4000:2], pair_bis[:4000:2], c='navy', ls = '', marker = 'o', markersize =1, alpha=0.2)\n",
    "# ax[idx0].loglog(pair_enc_nl5, pair_bis5, c='navy', ls = '', marker = 'o', markersize =1, alpha=0.2)\n",
    "ax[idx0].loglog( pair_f7_nl, pair_bis, c='r', ls = '', marker = 'o', markersize =1, alpha=0.2,rasterized=True);# label = r\"d$_{\\rho_i^{\\otimes{3}}}$\");\n",
    "ax[idx0].loglog( pair_enc_nl[:4000:2],pair_f7_nl[:4000:2], c='b', ls = '', marker = 'o', markersize =1, alpha=0.2,rasterized=True);# label = r\"$d_{\\tilde{\\xi}_p}$\");\n",
    "\n",
    "# ax[idx0].loglog(pair_f7_nl[:1], pair_bis[:1], c='r', ls = '', marker = 'o', markersize =1, label = r\"d$_{\\rho_i^{\\otimes{3}}}$\");\n",
    "# ax[idx0].loglog(pair_f7_nl[:1], pair_enc_nl[:1], c='b', ls = '', marker = 'o', markersize =1, label = r\"$d_{\\tilde{\\xi}_p}$\");\n",
    "\n",
    "ax[idx0].loglog( pair_enc_nl5,pair_f7_nl5, c='b', ls = '', marker = 'o', markersize =1, alpha=0.2,rasterized=True)\n",
    "ax[idx0].loglog(  pair_bis5,pair_f7_nl5,c='r', ls = '', marker = 'o', markersize =1, alpha=0.2,rasterized=True)\n",
    "\n",
    "ax[idx0].set_ylabel(r'$d_{\\rho_i^{\\otimes{7}}}$', fontsize = 11, labelpad =-7)\n",
    "ax[idx0].set_xlabel(r'$d_{\\rho_i^{\\otimes{3}}}, d_{\\tilde{\\xi}_p}$', fontsize = 11, labelpad =-2)\n",
    "# ax[idx0].set_xlabel(r'$\\tilde{\\xi}_p(A_i)$', labelpad=-5)#' =\\sum_{i_1,i_2}\\psi_p^{NL}[|\\rho_{ii_1 i_2}^{\\otimes{1}}\\rangle]$')\n",
    "# ax[idx0].set_ylabel(r'$| \\rho_i^{\\otimes{3}}\\rangle $', labelpad=-10)\n",
    "\n",
    "y0,y1 =5e-3, 4e-1\n",
    "\n",
    "ax[idx0].plot(np.linspace(y0,y1,100), np.linspace(y0,y1,100), 'k--')\n",
    "ax[idx0].set_xlim(y0,y1)\n",
    "ax[idx0].set_ylim(y0, y1)\n",
    "ax[idx0].set_yticks([y0, y1], minor=True, loc='right')\n",
    "# ax[1].ticks=[]\n",
    "# ax[idx0].legend(loc = 'upper left',fontsize=8.5,columnspacing=1, handletextpad=0.01)\n",
    "\n",
    "for i in range(7000,7500,2):\n",
    "    ax[idx1].plot(np.hstack([energy[i:i+2:2],energy[i+1:i+2:2]])*Hartree, np.vstack([ypred_n3[i+1:i+2:2],ypred_n3[i+1:i+2:2]])*Hartree,'r-', lw=1,rasterized=True);\n",
    "    ax[idx1].plot(energy[i:i+2:2]*Hartree,ypred_n3[i:i+2:2]*Hartree,'r',ls=\"\",marker='x',markersize=2);\n",
    "    ax[idx1].plot(energy[i+1:i+2:2]*Hartree,ypred_n3[i+1:i+2:2]*Hartree,'r',ls=\"\",marker='o',markersize=2);\n",
    "\n",
    "    ax[idx1].plot(np.hstack([energy[i:i+2:2],energy[i+1:i+2:2]])*Hartree, np.vstack([ypred[i:i+2:2],ypred[i+1:i+2:2]])*Hartree,'b-', lw=1);\n",
    "    ax[idx1].plot(energy[i:i+2:2]*Hartree,ypred[i:i+2:2]*Hartree,'b',ls=\"\",marker='x',markersize=2);\n",
    "    ax[idx1].plot(energy[i+1:i+2:2]*Hartree,ypred[i+1:i+2:2]*Hartree,'b',ls=\"\",marker='o',markersize=2);\n",
    "\n",
    "ax[idx1].plot(energy[i:i+2:2]*Hartree,ypred_n3[i:i+2:2]*Hartree,'r',ls=\"\",marker='x',markersize=2, label=r\"$\\xi_q(A_i)=\\langle q|\\rho_i^{\\otimes{3}}\\rangle$\");\n",
    "ax[idx1].plot(energy[i+1:i+2:2]*Hartree,ypred_n3[i+1:i+2:2]*Hartree,'r',ls=\"\",marker='o',markersize=2);\n",
    "\n",
    "ax[idx1].plot(np.hstack([energy[i:i+2:2],energy[i+1:i+2:2]])*Hartree, np.vstack([ypred[i:i+2:2],ypred[i+1:i+2:2]])*Hartree,'b-', lw=1);\n",
    "ax[idx1].plot(energy[i:i+2:2]*Hartree,ypred[i:i+2:2]*Hartree,'b',ls=\"\",marker='x',markersize=2, label=r\"$\\tilde{\\xi}_p(A_i) =\\sum_{i_1,i_2}\\psi_p[|\\rho_{ii_1 i_2}^{\\otimes{1}}\\rangle]$\");\n",
    "\n",
    "ax[idx1].set_xlim(6,12)\n",
    "ax[idx1].set_ylim(6,12)\n",
    "ax[idx1].set_xlabel('energy / eV')\n",
    "ax[idx1].set_ylabel('predicted / eV', labelpad =-2)\n",
    "\n",
    "ax[idx1].legend(loc = 'lower right',fontsize=8,columnspacing=1, handletextpad=0.01)\n",
    "from matplotlib.offsetbox import (OffsetImage, AnnotationBbox)\n",
    "from matplotlib.image import imread\n",
    "# pic = imread('/Users/jigyasa/Downloads/j1.tga')\n",
    "# imagebox = OffsetImage(pic, zoom = 0.1)\n",
    "# ab = AnnotationBbox(imagebox, (1.2, 0.4), frameon = False)\n",
    "# ax[1].add_artist(ab)\n",
    "\n",
    "fig.savefig(\"boron-energies-sensitivity.svg\", dpi=200)"
   ]
  },
  {
   "cell_type": "code",
   "execution_count": 82,
   "id": "0e36a880",
   "metadata": {
    "ExecuteTime": {
     "end_time": "2023-08-09T20:37:59.751497Z",
     "start_time": "2023-08-09T20:37:57.845586Z"
    }
   },
   "outputs": [],
   "source": [
    "from ase.io import read,write\n",
    "frd = read('bispectrum_counter/boron/NOISE/asymm/boron8_distorted_frames_var1e-1.xyz',':')\n",
    "write('./frame354N.xyz', frd[354])\n",
    "fr = read('bispectrum_counter/boron/boron_8000_pbeccpvdz.xyz',':')\n",
    "write('./frame354.xyz', fr[354])"
   ]
  },
  {
   "cell_type": "code",
   "execution_count": 88,
   "id": "c6d0c9bb",
   "metadata": {
    "ExecuteTime": {
     "end_time": "2023-08-09T20:47:41.582622Z",
     "start_time": "2023-08-09T20:47:41.577688Z"
    }
   },
   "outputs": [],
   "source": [
    "frd = read('/Users/jigyasa/frame-354N.xyz')"
   ]
  },
  {
   "cell_type": "code",
   "execution_count": 94,
   "id": "b45a5f40",
   "metadata": {
    "ExecuteTime": {
     "end_time": "2023-08-09T20:49:11.361328Z",
     "start_time": "2023-08-09T20:49:11.353014Z"
    }
   },
   "outputs": [],
   "source": [
    "write('/Users/jigyasa/frame-354N.xyz', frd)"
   ]
  },
  {
   "cell_type": "code",
   "execution_count": 89,
   "id": "02c05c56",
   "metadata": {
    "ExecuteTime": {
     "end_time": "2023-08-09T20:47:44.845046Z",
     "start_time": "2023-08-09T20:47:44.839912Z"
    }
   },
   "outputs": [],
   "source": [
    "frd.positions+= np.random.normal(0, scale=1e-2)"
   ]
  },
  {
   "cell_type": "code",
   "execution_count": 81,
   "id": "eccc4934",
   "metadata": {
    "ExecuteTime": {
     "end_time": "2023-08-09T20:34:52.963640Z",
     "start_time": "2023-08-09T20:34:52.954577Z"
    }
   },
   "outputs": [],
   "source": [
    "write('./frame354N.xyz', frd[354])"
   ]
  },
  {
   "cell_type": "markdown",
   "id": "6bfb405d",
   "metadata": {},
   "source": [
    "# CARBON"
   ]
  },
  {
   "cell_type": "code",
   "execution_count": 34,
   "id": "eef930c0",
   "metadata": {
    "ExecuteTime": {
     "end_time": "2023-05-30T09:11:29.161639Z",
     "start_time": "2023-05-30T09:11:29.157173Z"
    }
   },
   "outputs": [],
   "source": [
    "ev_tokcalmol  = 23.0609"
   ]
  },
  {
   "cell_type": "markdown",
   "id": "bfce5be4",
   "metadata": {
    "ExecuteTime": {
     "end_time": "2023-05-22T10:15:59.586932Z",
     "start_time": "2023-05-22T10:15:59.581163Z"
    }
   },
   "source": [
    "## train 8k cosmosrv"
   ]
  },
  {
   "cell_type": "code",
   "execution_count": 2,
   "id": "c1cd73e8",
   "metadata": {
    "ExecuteTime": {
     "end_time": "2023-05-30T08:49:56.971895Z",
     "start_time": "2023-05-30T08:49:56.416840Z"
    }
   },
   "outputs": [],
   "source": [
    "# import torch\n",
    "# torch.set_default_dtype(torch.float64)\n",
    "# torch.device= \"cpu\"\n",
    "# device = \"cpu\""
   ]
  },
  {
   "cell_type": "code",
   "execution_count": 36,
   "id": "d27dbec1",
   "metadata": {
    "ExecuteTime": {
     "end_time": "2023-05-30T09:11:53.271333Z",
     "start_time": "2023-05-30T09:11:53.264180Z"
    }
   },
   "outputs": [
    {
     "data": {
      "text/plain": [
       "10.703690117881862"
      ]
     },
     "execution_count": 36,
     "metadata": {},
     "output_type": "execute_result"
    }
   ],
   "source": [
    "np.std(energy_perat)*ev_tokcalmol"
   ]
  },
  {
   "cell_type": "code",
   "execution_count": 144,
   "id": "02fe90e7",
   "metadata": {
    "ExecuteTime": {
     "end_time": "2023-05-30T12:30:44.507876Z",
     "start_time": "2023-05-30T12:30:29.498653Z"
    }
   },
   "outputs": [
    {
     "name": "stdout",
     "output_type": "stream",
     "text": [
      "-20.697736000000077 31.854233999999906\n"
     ]
    }
   ],
   "source": [
    "from ase.io import read\n",
    "frames = read('/Users/jigyasa/scratch/bispectrum_counter/carbon/C_concatenated.xyz', ':')\n",
    "energy_tot = np.array([f.info[\"energy\"] for f in frames])\n",
    "nat = np.array([len(f) for f in frames])\n",
    "energy_perat = energy_tot/nat\n",
    "ebase = frames[0].info['energy']/len(frames[0])\n",
    "y = []\n",
    "for f in frames:\n",
    "    y.append(f.info['energy'] - ebase*len(f))\n",
    "    f.info['energy_rel'] = y[-1]\n",
    "\n",
    "energy = np.array([f.info[\"energy_rel\"] for f in frames])\n",
    "print(np.min(energy), np.max(energy))"
   ]
  },
  {
   "cell_type": "code",
   "execution_count": 145,
   "id": "6379f357",
   "metadata": {
    "ExecuteTime": {
     "end_time": "2023-05-30T12:30:44.512870Z",
     "start_time": "2023-05-30T12:30:44.509692Z"
    }
   },
   "outputs": [],
   "source": [
    "def mse_loss(pred, target):\n",
    "    return np.sum((pred.flatten() - target.flatten()) ** 2)\n",
    "\n",
    "def get_all(pred, target, ntrain, relative=False): \n",
    "    print(\"target min,max\", target.min(),target.max() )\n",
    "    ntest =len(target)-ntrain\n",
    "    print(\"ntrain\", ntrain, \"ntest\", ntest)\n",
    "    train = np.sqrt(mse_loss(pred[:ntrain], target[:ntrain])/ntrain)\n",
    "    test = np.sqrt(mse_loss(pred[ntrain:], target[ntrain:])/ntest)\n",
    "    if relative: \n",
    "        train = train/np.std(target[:ntrain])\n",
    "        test= test/np.std(target[ntrain:])\n",
    "    return train, test"
   ]
  },
  {
   "cell_type": "code",
   "execution_count": 146,
   "id": "b9810018",
   "metadata": {
    "ExecuteTime": {
     "end_time": "2023-05-30T12:30:44.515558Z",
     "start_time": "2023-05-30T12:30:44.514037Z"
    }
   },
   "outputs": [],
   "source": [
    "NTRAIN = 8000"
   ]
  },
  {
   "cell_type": "code",
   "execution_count": 147,
   "id": "04bee4c5",
   "metadata": {
    "ExecuteTime": {
     "end_time": "2023-05-30T12:30:44.521881Z",
     "start_time": "2023-05-30T12:30:44.517203Z"
    }
   },
   "outputs": [],
   "source": [
    "pred_3c = np.load('/Users/jigyasa/scratch/bispectrum_counter/carbon/fit_energy_n4l3/batchmc2_triple_p0-nl.npy')\n",
    "pred_3c_diff = np.load('/Users/jigyasa/scratch/bispectrum_counter/carbon/fit_energy_n4l3/batchmc2_triple_p0-nl-DIFF.npy')\n",
    "pred_nu3 = np.load('/Users/jigyasa/scratch/bispectrum_counter/carbon/fit_energy_n4l3/batchmc2_single-NU3_asym-nl.npy')\n",
    "pred_nu3_diff = np.load('/Users/jigyasa/scratch/bispectrum_counter/carbon/fit_energy_n4l3/batchmc2_single-NU3_asym-nl-DIFF.npy')\n",
    "pred_nu2 = np.load('/Users/jigyasa/scratch/bispectrum_counter/carbon/fit_energy_n4l3/linearnu2-pred.npy')\n"
   ]
  },
  {
   "cell_type": "code",
   "execution_count": 148,
   "id": "ea34e69f",
   "metadata": {
    "ExecuteTime": {
     "end_time": "2023-05-30T12:30:44.525510Z",
     "start_time": "2023-05-30T12:30:44.522907Z"
    }
   },
   "outputs": [
    {
     "name": "stdout",
     "output_type": "stream",
     "text": [
      "baselined (10000,) -9.179295461407596 7.51621137515386\n"
     ]
    }
   ],
   "source": [
    "pred_nu2 = pred_nu2.flatten()\n",
    "energy_baselined = energy.copy().flatten()\n",
    "energy_baselined = energy_baselined- pred_nu2\n",
    "# energy_baselined = torch.tensor(energy)\n",
    "print(\"baselined\", energy.shape, np.min(energy_baselined), np.max(energy_baselined))"
   ]
  },
  {
   "cell_type": "code",
   "execution_count": 149,
   "id": "c0936362",
   "metadata": {
    "ExecuteTime": {
     "end_time": "2023-05-30T12:30:46.625086Z",
     "start_time": "2023-05-30T12:30:46.616331Z"
    }
   },
   "outputs": [
    {
     "name": "stdout",
     "output_type": "stream",
     "text": [
      "target min,max -9.179295461407596 7.51621137515386\n",
      "ntrain 8000 ntest 2000\n"
     ]
    },
    {
     "data": {
      "text/plain": [
       "(0.3920188434898392, 0.7255178848725554)"
      ]
     },
     "execution_count": 149,
     "metadata": {},
     "output_type": "execute_result"
    }
   ],
   "source": [
    "get_all(pred_3c_diff, energy_baselined,NTRAIN)"
   ]
  },
  {
   "cell_type": "code",
   "execution_count": 150,
   "id": "574a3267",
   "metadata": {
    "ExecuteTime": {
     "end_time": "2023-05-30T12:30:51.394151Z",
     "start_time": "2023-05-30T12:30:51.388402Z"
    }
   },
   "outputs": [
    {
     "name": "stdout",
     "output_type": "stream",
     "text": [
      "target min,max -9.179295461407596 7.51621137515386\n",
      "ntrain 8000 ntest 2000\n"
     ]
    },
    {
     "data": {
      "text/plain": [
       "(0.47096567089872415, 0.7535950057724944)"
      ]
     },
     "execution_count": 150,
     "metadata": {},
     "output_type": "execute_result"
    }
   ],
   "source": [
    "get_all(pred_nu3_diff, energy_baselined,NTRAIN)"
   ]
  },
  {
   "cell_type": "code",
   "execution_count": 152,
   "id": "2704ff15",
   "metadata": {
    "ExecuteTime": {
     "end_time": "2023-05-30T12:30:58.162472Z",
     "start_time": "2023-05-30T12:30:58.155072Z"
    }
   },
   "outputs": [
    {
     "name": "stdout",
     "output_type": "stream",
     "text": [
      "target min,max -20.697736000000077 31.854233999999906\n",
      "ntrain 8000 ntest 2000\n"
     ]
    },
    {
     "data": {
      "text/plain": [
       "(0.07464115901331385, 0.11895647990381514)"
      ]
     },
     "execution_count": 152,
     "metadata": {},
     "output_type": "execute_result"
    }
   ],
   "source": [
    "get_all(pred_3c_diff.flatten()+pred_nu2, energy,NTRAIN, relative=True)"
   ]
  },
  {
   "cell_type": "code",
   "execution_count": 153,
   "id": "95101cf1",
   "metadata": {
    "ExecuteTime": {
     "end_time": "2023-05-30T12:31:56.674715Z",
     "start_time": "2023-05-30T12:31:56.667661Z"
    }
   },
   "outputs": [
    {
     "name": "stdout",
     "output_type": "stream",
     "text": [
      "target min,max -20.697736000000077 31.854233999999906\n",
      "ntrain 8000 ntest 2000\n"
     ]
    },
    {
     "data": {
      "text/plain": [
       "(0.08967279026288658, 0.12356002660849394)"
      ]
     },
     "execution_count": 153,
     "metadata": {},
     "output_type": "execute_result"
    }
   ],
   "source": [
    "get_all(pred_nu3_diff.flatten()+pred_nu2, energy,NTRAIN, relative=True)"
   ]
  },
  {
   "cell_type": "code",
   "execution_count": 160,
   "id": "36cae12d",
   "metadata": {
    "ExecuteTime": {
     "end_time": "2023-05-31T09:22:39.454571Z",
     "start_time": "2023-05-31T09:22:39.427684Z"
    }
   },
   "outputs": [
    {
     "name": "stdout",
     "output_type": "stream",
     "text": [
      "target min,max -3709.18372 -603.679469\n",
      "ntrain 8000 ntest 2000\n",
      "(0.3920188434898408, 0.7255178848725523)\n",
      "target min,max -154.55650375 -150.91986725\n",
      "ntrain 8000 ntest 2000\n",
      "0.8155932626753943 0.8851750003480492\n"
     ]
    }
   ],
   "source": [
    "aa = pred_3c_diff.flatten()+pred_nu2 \n",
    "aa = np.array([aa[i]+ ebase*len(f) for i,f in enumerate(frames)])\n",
    "print( get_all(aa, energy_tot,NTRAIN))\n",
    "train, test = get_all(aa/nat, energy_tot/nat,NTRAIN)\n",
    "print(train*ev_tokcalmol, test*ev_tokcalmol)"
   ]
  },
  {
   "cell_type": "code",
   "execution_count": null,
   "id": "46861ee5",
   "metadata": {},
   "outputs": [],
   "source": []
  },
  {
   "cell_type": "code",
   "execution_count": 161,
   "id": "f33406e6",
   "metadata": {
    "ExecuteTime": {
     "end_time": "2023-05-31T09:25:39.463712Z",
     "start_time": "2023-05-31T09:25:39.435446Z"
    }
   },
   "outputs": [
    {
     "name": "stdout",
     "output_type": "stream",
     "text": [
      "target min,max -3709.18372 -603.679469\n",
      "ntrain 8000 ntest 2000\n",
      "(0.47096567089872327, 0.7535950057724893)\n",
      "target min,max -154.55650375 -150.91986725\n",
      "ntrain 8000 ntest 2000\n",
      "0.9658643835740262 0.9285587366769609\n"
     ]
    }
   ],
   "source": [
    "aa = pred_nu3_diff.flatten()+pred_nu2 \n",
    "aa = np.array([aa[i]+ ebase*len(f) for i,f in enumerate(frames)])\n",
    "print( get_all(aa, energy_tot,NTRAIN))\n",
    "train, test =get_all(aa/nat, energy_tot/nat,NTRAIN)\n",
    "print(train*ev_tokcalmol, test*ev_tokcalmol)"
   ]
  },
  {
   "cell_type": "code",
   "execution_count": 132,
   "id": "0d1e91e7",
   "metadata": {
    "ExecuteTime": {
     "end_time": "2023-05-30T10:35:52.754140Z",
     "start_time": "2023-05-30T10:35:52.749404Z"
    }
   },
   "outputs": [],
   "source": [
    "aa = pred_nu3_diff.flatten()+pred_nu2 \n",
    "# aa = np.array([aa[i]+ ebase*len(f) for i,f in enumerate(frames)])\n",
    "\n",
    "bb = pred_3c_diff.flatten()+pred_nu2 \n",
    "# bb = np.array([bb[i]+ ebase*len(f) for i,f in enumerate(frames)])"
   ]
  },
  {
   "cell_type": "code",
   "execution_count": 143,
   "id": "dc844b4b",
   "metadata": {
    "ExecuteTime": {
     "end_time": "2023-05-30T10:38:53.438420Z",
     "start_time": "2023-05-30T10:38:53.177044Z"
    }
   },
   "outputs": [
    {
     "data": {
      "image/png": "[encoded data removed]",
      "text/plain": [
       "<Figure size 350x350 with 1 Axes>"
      ]
     },
     "metadata": {},
     "output_type": "display_data"
    }
   ],
   "source": [
    "fig, ax = plt.subplots(1, 1, figsize=(3.5,3.5), constrained_layout=True)\n",
    "\n",
    "\n",
    "ax.plot(energy[ntrain:], aa[ntrain:], 'r.',markersize=2,alpha = 0.8, label=r\"$|\\rho_i^{\\otimes{3}}\\rangle$\" )\n",
    "ax.plot(energy[ntrain:], bb[ntrain:], 'b*',markersize=2,alpha = 0.5,label=r\"$|\\rho_{ii_1 i_2}^{\\otimes{1}}\\rangle$\")\n",
    "ax.set_xlabel('energy / eV')\n",
    "ax.set_ylabel('predicted / eV')\n",
    "\n",
    "ax.legend()\n",
    "fig.savefig(\"carbon-energies.pdf\")"
   ]
  },
  {
   "cell_type": "markdown",
   "id": "7b779fa1",
   "metadata": {
    "heading_collapsed": true
   },
   "source": [
    "## log files on cosmopc"
   ]
  },
  {
   "cell_type": "code",
   "execution_count": 132,
   "id": "6904a2cd",
   "metadata": {
    "ExecuteTime": {
     "end_time": "2023-05-22T10:18:35.486440Z",
     "start_time": "2023-05-22T10:18:35.481719Z"
    },
    "hidden": true
   },
   "outputs": [],
   "source": [
    "log_3nl = '/home/nigam/scratch/MAC/bispectrum_counter/carbon/train8k/fit_n4l3/log_nl_mc2batch'"
   ]
  },
  {
   "cell_type": "code",
   "execution_count": 159,
   "id": "ed9ddc67",
   "metadata": {
    "ExecuteTime": {
     "end_time": "2023-05-22T10:27:05.505641Z",
     "start_time": "2023-05-22T10:27:05.457210Z"
    },
    "hidden": true
   },
   "outputs": [],
   "source": [
    "epochs_3c = []\n",
    "train_err_3c = []\n",
    "val_err_3c = []\n",
    "with open(log_3nl, 'r') as fp:\n",
    "    for i, line in enumerate(fp):\n",
    "#         print(i,line)\n",
    "        if i>=19:\n",
    "            line =line.split()\n",
    "#             print(len(line),line)\n",
    "            epoch, train, test = line[1], line[4], line[7]\n",
    "            epochs_3c.append(int(epoch))\n",
    "            train_err_3c.append(float(train))\n",
    "            val_err_3c.append(float(test))\n",
    "#             print(line[1], line[4], line[7])"
   ]
  },
  {
   "cell_type": "code",
   "execution_count": 160,
   "id": "ca6b67ce",
   "metadata": {
    "ExecuteTime": {
     "end_time": "2023-05-22T10:27:12.442972Z",
     "start_time": "2023-05-22T10:27:12.249469Z"
    },
    "hidden": true
   },
   "outputs": [
    {
     "data": {
      "text/plain": [
       "[<matplotlib.lines.Line2D at 0x7f64cc972460>]"
      ]
     },
     "execution_count": 160,
     "metadata": {},
     "output_type": "execute_result"
    },
    {
     "data": {
      "image/png": "[encoded data removed]",
      "text/plain": [
       "<Figure size 432x288 with 1 Axes>"
      ]
     },
     "metadata": {
      "needs_background": "light"
     },
     "output_type": "display_data"
    }
   ],
   "source": [
    "plt.plot(epochs_3c, train_err_3c, 'k.')\n",
    "plt.plot(epochs_3c, val_err_3c, 'r.')"
   ]
  },
  {
   "cell_type": "code",
   "execution_count": 170,
   "id": "7ecb6af3",
   "metadata": {
    "ExecuteTime": {
     "end_time": "2023-05-22T10:28:39.207455Z",
     "start_time": "2023-05-22T10:28:39.201443Z"
    },
    "hidden": true
   },
   "outputs": [],
   "source": [
    "log_nu3 = '/home/nigam/scratch/MAC/bispectrum_counter/carbon/train8k/fit_n4l3/log_nu3_nl'"
   ]
  },
  {
   "cell_type": "code",
   "execution_count": 201,
   "id": "5366967a",
   "metadata": {
    "ExecuteTime": {
     "end_time": "2023-05-22T10:33:52.872347Z",
     "start_time": "2023-05-22T10:33:52.624516Z"
    },
    "hidden": true
   },
   "outputs": [],
   "source": [
    "epochs_nu3 = []\n",
    "train_err_nu3 = []\n",
    "val_err_nu3 = []\n",
    "with open(log_nu3, 'r') as fp:\n",
    "    for i, line in enumerate(fp):\n",
    "\n",
    "        if i>=29 and line.split()[0]==\"epoch:\":\n",
    "            line =line.split()\n",
    "#             print(i, len(line),line)\n",
    "            epoch, train, test = line[1], line[4], line[7]\n",
    "            epochs_nu3.append(int(epoch))\n",
    "            train_err_nu3.append(float(train))\n",
    "            val_err_nu3.append(float(test))\n",
    "            \n",
    "#             print(line[1], line[4], line[7])"
   ]
  },
  {
   "cell_type": "code",
   "execution_count": 202,
   "id": "e4c1eb06",
   "metadata": {
    "ExecuteTime": {
     "end_time": "2023-05-22T10:34:01.220275Z",
     "start_time": "2023-05-22T10:34:01.209106Z"
    },
    "hidden": true
   },
   "outputs": [
    {
     "data": {
      "text/plain": [
       "91575"
      ]
     },
     "execution_count": 202,
     "metadata": {},
     "output_type": "execute_result"
    }
   ],
   "source": [
    "len(epochs_nu3)"
   ]
  },
  {
   "cell_type": "code",
   "execution_count": 204,
   "id": "8004ca14",
   "metadata": {
    "ExecuteTime": {
     "end_time": "2023-05-22T10:34:46.043708Z",
     "start_time": "2023-05-22T10:34:45.845891Z"
    },
    "hidden": true
   },
   "outputs": [
    {
     "data": {
      "text/plain": [
       "[<matplotlib.lines.Line2D at 0x7f64cbf4ba30>]"
      ]
     },
     "execution_count": 204,
     "metadata": {},
     "output_type": "execute_result"
    },
    {
     "data": {
      "image/png": "[encoded data removed]",
      "text/plain": [
       "<Figure size 432x288 with 1 Axes>"
      ]
     },
     "metadata": {
      "needs_background": "light"
     },
     "output_type": "display_data"
    }
   ],
   "source": [
    "plt.plot(epochs_3c, train_err_3c, 'k.')\n",
    "plt.plot(epochs_3c, val_err_3c, 'r.')\n",
    "\n",
    "plt.plot(epochs_nu3, train_err_nu3, 'g--')\n",
    "plt.plot(epochs_nu3, val_err_nu3, 'b--')"
   ]
  },
  {
   "cell_type": "code",
   "execution_count": 205,
   "id": "842e9828",
   "metadata": {
    "ExecuteTime": {
     "end_time": "2023-05-22T10:35:00.448878Z",
     "start_time": "2023-05-22T10:35:00.440104Z"
    },
    "hidden": true
   },
   "outputs": [
    {
     "data": {
      "text/plain": [
       "0.6566914572992681"
      ]
     },
     "execution_count": 205,
     "metadata": {},
     "output_type": "execute_result"
    }
   ],
   "source": [
    "min(val_err_nu3)"
   ]
  },
  {
   "cell_type": "code",
   "execution_count": 206,
   "id": "12953b3d",
   "metadata": {
    "ExecuteTime": {
     "end_time": "2023-05-22T10:35:10.153260Z",
     "start_time": "2023-05-22T10:35:10.143901Z"
    },
    "hidden": true
   },
   "outputs": [
    {
     "data": {
      "text/plain": [
       "0.6432118160903881"
      ]
     },
     "execution_count": 206,
     "metadata": {},
     "output_type": "execute_result"
    }
   ],
   "source": [
    "min(val_err_3c)"
   ]
  },
  {
   "cell_type": "code",
   "execution_count": 210,
   "id": "7980a141",
   "metadata": {
    "ExecuteTime": {
     "end_time": "2023-05-22T10:36:04.031880Z",
     "start_time": "2023-05-22T10:36:04.016432Z"
    },
    "hidden": true
   },
   "outputs": [
    {
     "data": {
      "text/plain": [
       "(array([708]),)"
      ]
     },
     "execution_count": 210,
     "metadata": {},
     "output_type": "execute_result"
    }
   ],
   "source": [
    "np.where(np.isclose(val_err_3c,0.64321181609))"
   ]
  },
  {
   "cell_type": "code",
   "execution_count": 211,
   "id": "ae565ea2",
   "metadata": {
    "ExecuteTime": {
     "end_time": "2023-05-22T10:36:14.569757Z",
     "start_time": "2023-05-22T10:36:14.560792Z"
    },
    "hidden": true
   },
   "outputs": [
    {
     "data": {
      "text/plain": [
       "0.6432118160903881"
      ]
     },
     "execution_count": 211,
     "metadata": {},
     "output_type": "execute_result"
    }
   ],
   "source": [
    "val_err_3c[708]"
   ]
  },
  {
   "cell_type": "markdown",
   "id": "bfc87a55",
   "metadata": {},
   "source": [
    "## train 4k imx"
   ]
  },
  {
   "cell_type": "code",
   "execution_count": 120,
   "id": "bbd89c01",
   "metadata": {
    "ExecuteTime": {
     "end_time": "2023-05-19T12:57:15.369296Z",
     "start_time": "2023-05-19T12:56:58.150457Z"
    }
   },
   "outputs": [
    {
     "name": "stdout",
     "output_type": "stream",
     "text": [
      "-36.15852571428604 16.39344428571394\n"
     ]
    }
   ],
   "source": [
    "from ase.io import read\n",
    "frames = read('/home/nigam/scratch/MAC/bispectrum_counter/carbon/C_lessthan14.xyz', ':')\n",
    "energy_tot = np.array([f.info[\"energy\"] for f in frames])\n",
    "nat = np.array([len(f) for f in frames])\n",
    "energy_perat = energy_tot/nat\n",
    "ebase = frames[0].info['energy']/len(frames[0])\n",
    "y = []\n",
    "for f in frames:\n",
    "    y.append(f.info['energy'] - ebase*len(f))\n",
    "    f.info['energy_rel'] = y[-1]\n",
    "\n",
    "energy = np.array([f.info[\"energy_rel\"] for f in frames])\n",
    "print(np.min(energy), np.max(energy))"
   ]
  },
  {
   "cell_type": "code",
   "execution_count": 92,
   "id": "348d37e3",
   "metadata": {
    "ExecuteTime": {
     "end_time": "2023-05-19T12:33:37.740998Z",
     "start_time": "2023-05-19T12:33:37.738529Z"
    }
   },
   "outputs": [],
   "source": [
    "ev_tokcalmol  = 23.0609"
   ]
  },
  {
   "cell_type": "code",
   "execution_count": 93,
   "id": "f11fa6ed",
   "metadata": {
    "ExecuteTime": {
     "end_time": "2023-05-19T12:33:37.755892Z",
     "start_time": "2023-05-19T12:33:37.742354Z"
    }
   },
   "outputs": [],
   "source": [
    "ntrain = 4000"
   ]
  },
  {
   "cell_type": "code",
   "execution_count": 94,
   "id": "dba1a476",
   "metadata": {
    "ExecuteTime": {
     "end_time": "2023-05-19T12:33:37.768668Z",
     "start_time": "2023-05-19T12:33:37.757750Z"
    }
   },
   "outputs": [],
   "source": [
    "def mse_loss(pred, target, ntrain, relative=False):\n",
    "    ntest = len(pred)-ntrain\n",
    "    print(ntrain, ntest)\n",
    "    mse_train = np.sqrt(np.sum((pred[:ntrain].flatten() - target[:ntrain].flatten()) ** 2)/ntrain)\n",
    "    mse_test = np.sqrt(np.sum((pred[ntrain:].flatten() - target[ntrain:].flatten()) ** 2)/ntest)\n",
    "    if not relative:\n",
    "        return mse_train, mse_test\n",
    "    else: \n",
    "        return mse_train/np.std(target[:ntrain]), mse_test/np.std(target[ntrain:])\n",
    "        \n",
    "        "
   ]
  },
  {
   "cell_type": "markdown",
   "id": "e4a0cf24",
   "metadata": {},
   "source": [
    "## n4l3rcut4"
   ]
  },
  {
   "cell_type": "markdown",
   "id": "2cd46b44",
   "metadata": {},
   "source": [
    "### 3c"
   ]
  },
  {
   "cell_type": "code",
   "execution_count": 111,
   "id": "0848375f",
   "metadata": {
    "ExecuteTime": {
     "end_time": "2023-05-19T12:36:32.772774Z",
     "start_time": "2023-05-19T12:36:32.764098Z"
    }
   },
   "outputs": [],
   "source": [
    "pred_3cnl = np.load('/home/nigam/scratch/MAC/bispectrum_counter/carbon/train4k/fit_energy_n4l3/batchmc2_triple_p0-nl.npy')"
   ]
  },
  {
   "cell_type": "code",
   "execution_count": 113,
   "id": "f6d226d0",
   "metadata": {
    "ExecuteTime": {
     "end_time": "2023-05-19T12:37:00.381056Z",
     "start_time": "2023-05-19T12:37:00.343548Z"
    }
   },
   "outputs": [],
   "source": [
    "pred_3cnl_tot = np.asarray([pred_3cnl[i]+ebase*len(f) for i,f in enumerate(frames)])"
   ]
  },
  {
   "cell_type": "code",
   "execution_count": 115,
   "id": "99eb3d9a",
   "metadata": {
    "ExecuteTime": {
     "end_time": "2023-05-19T12:37:22.738494Z",
     "start_time": "2023-05-19T12:37:22.733198Z"
    }
   },
   "outputs": [],
   "source": [
    "pred_3cnl_tot= pred_3cnl_tot.reshape(4415,)"
   ]
  },
  {
   "cell_type": "code",
   "execution_count": 107,
   "id": "57a32997",
   "metadata": {
    "ExecuteTime": {
     "end_time": "2023-05-19T12:35:27.320720Z",
     "start_time": "2023-05-19T12:35:27.309017Z"
    }
   },
   "outputs": [
    {
     "data": {
      "text/plain": [
       "array([ 0.01108433,  0.669016  , -0.33404045, ...,  0.08118218,\n",
       "        0.06765755, -0.02917977])"
      ]
     },
     "execution_count": 107,
     "metadata": {},
     "output_type": "execute_result"
    }
   ],
   "source": [
    "pred_3cnl/nat#.shape"
   ]
  },
  {
   "cell_type": "code",
   "execution_count": 116,
   "id": "8ce03b80",
   "metadata": {
    "ExecuteTime": {
     "end_time": "2023-05-19T12:37:24.744349Z",
     "start_time": "2023-05-19T12:37:24.730946Z"
    }
   },
   "outputs": [
    {
     "name": "stdout",
     "output_type": "stream",
     "text": [
      "4000 415\n"
     ]
    },
    {
     "data": {
      "text/plain": [
       "(0.013924743206945589, 0.05371149836091454)"
      ]
     },
     "execution_count": 116,
     "metadata": {},
     "output_type": "execute_result"
    }
   ],
   "source": [
    "mse_loss(pred_3cnl_tot/nat, energy_perat, ntrain)"
   ]
  },
  {
   "cell_type": "code",
   "execution_count": 123,
   "id": "d01dc60f",
   "metadata": {
    "ExecuteTime": {
     "end_time": "2023-05-19T12:58:09.356096Z",
     "start_time": "2023-05-19T12:58:09.345844Z"
    }
   },
   "outputs": [
    {
     "data": {
      "text/plain": [
       "9.685578"
      ]
     },
     "execution_count": 123,
     "metadata": {},
     "output_type": "execute_result"
    }
   ],
   "source": [
    "0.42*ev_tokcalmol"
   ]
  },
  {
   "cell_type": "code",
   "execution_count": 110,
   "id": "017e1bec",
   "metadata": {
    "ExecuteTime": {
     "end_time": "2023-05-19T12:36:19.115229Z",
     "start_time": "2023-05-19T12:36:19.105673Z"
    }
   },
   "outputs": [
    {
     "data": {
      "text/plain": [
       "array([ 0.01108433,  0.669016  , -0.33404045, ...,  0.08118218,\n",
       "        0.06765755, -0.02917977])"
      ]
     },
     "execution_count": 110,
     "metadata": {},
     "output_type": "execute_result"
    }
   ],
   "source": [
    "pred_3cnl/nat"
   ]
  },
  {
   "cell_type": "code",
   "execution_count": 121,
   "id": "d7da3d47",
   "metadata": {
    "ExecuteTime": {
     "end_time": "2023-05-19T12:57:15.374222Z",
     "start_time": "2023-05-19T12:57:15.371051Z"
    }
   },
   "outputs": [
    {
     "data": {
      "text/plain": [
       "14.423027404818834"
      ]
     },
     "execution_count": 121,
     "metadata": {},
     "output_type": "execute_result"
    }
   ],
   "source": [
    "np.mean(nat)"
   ]
  },
  {
   "cell_type": "code",
   "execution_count": 118,
   "id": "1e04f907",
   "metadata": {
    "ExecuteTime": {
     "end_time": "2023-05-19T12:46:55.941317Z",
     "start_time": "2023-05-19T12:46:55.931593Z"
    }
   },
   "outputs": [
    {
     "name": "stdout",
     "output_type": "stream",
     "text": [
      "4000 415\n"
     ]
    },
    {
     "data": {
      "text/plain": [
       "(0.11048783206404543, 0.4204881063911966)"
      ]
     },
     "execution_count": 118,
     "metadata": {},
     "output_type": "execute_result"
    }
   ],
   "source": [
    "mse_loss(pred_3cnl_tot, energy_tot, ntrain)"
   ]
  },
  {
   "cell_type": "code",
   "execution_count": 72,
   "id": "bf6494ac",
   "metadata": {
    "ExecuteTime": {
     "end_time": "2023-05-19T10:42:08.677413Z",
     "start_time": "2023-05-19T10:42:08.501311Z"
    }
   },
   "outputs": [
    {
     "data": {
      "text/plain": [
       "[<matplotlib.lines.Line2D at 0x7f64ee004ee0>]"
      ]
     },
     "execution_count": 72,
     "metadata": {},
     "output_type": "execute_result"
    },
    {
     "data": {
      "image/png": "[encoded data removed]",
      "text/plain": [
       "<Figure size 432x288 with 1 Axes>"
      ]
     },
     "metadata": {
      "needs_background": "light"
     },
     "output_type": "display_data"
    }
   ],
   "source": [
    "plt.plot(energy[:ntrain],pred_3cnl[:ntrain], 'k.')\n",
    "plt.plot(energy[ntrain:],pred_3cnl[ntrain:], 'b.')"
   ]
  },
  {
   "cell_type": "code",
   "execution_count": 73,
   "id": "2d385f3e",
   "metadata": {
    "ExecuteTime": {
     "end_time": "2023-05-19T10:42:12.934163Z",
     "start_time": "2023-05-19T10:42:12.921750Z"
    }
   },
   "outputs": [
    {
     "name": "stdout",
     "output_type": "stream",
     "text": [
      "4000 415\n"
     ]
    },
    {
     "data": {
      "text/plain": [
       "(0.11048783206404543, 0.4204881063911966)"
      ]
     },
     "execution_count": 73,
     "metadata": {},
     "output_type": "execute_result"
    }
   ],
   "source": [
    "mse_loss(pred_3cnl_tot, energy_tot, ntrain)\n",
    "# mev_tokcalmol  "
   ]
  },
  {
   "cell_type": "markdown",
   "id": "6a5f31c9",
   "metadata": {},
   "source": [
    "### nu3"
   ]
  },
  {
   "cell_type": "code",
   "execution_count": 32,
   "id": "0fc57151",
   "metadata": {
    "ExecuteTime": {
     "end_time": "2023-05-17T16:00:20.425062Z",
     "start_time": "2023-05-17T16:00:20.422630Z"
    }
   },
   "outputs": [],
   "source": [
    "pred_nu3nl = np.load('/home/nigam/scratch/MAC/bispectrum_counter/carbon/train4k/fit_energy_n4l3/batchmc2_single-NU3_asym-nl.npy')"
   ]
  },
  {
   "cell_type": "code",
   "execution_count": 33,
   "id": "51a5741f",
   "metadata": {
    "ExecuteTime": {
     "end_time": "2023-05-17T16:00:20.763201Z",
     "start_time": "2023-05-17T16:00:20.758846Z"
    }
   },
   "outputs": [
    {
     "data": {
      "text/plain": [
       "(0.10446067262314604, 0.3718448582007854)"
      ]
     },
     "execution_count": 33,
     "metadata": {},
     "output_type": "execute_result"
    }
   ],
   "source": [
    "mse_loss(pred_nu3nl, energy, ntrain)"
   ]
  },
  {
   "cell_type": "code",
   "execution_count": 34,
   "id": "7abc004f",
   "metadata": {
    "ExecuteTime": {
     "end_time": "2023-05-17T16:00:49.201806Z",
     "start_time": "2023-05-17T16:00:49.174672Z"
    }
   },
   "outputs": [],
   "source": [
    "pred_nu3nl_tot = np.asarray([pred_nu3nl[i]+ebase*len(f) for i,f in enumerate(frames)])"
   ]
  },
  {
   "cell_type": "code",
   "execution_count": 35,
   "id": "d611fbee",
   "metadata": {
    "ExecuteTime": {
     "end_time": "2023-05-17T16:00:59.719786Z",
     "start_time": "2023-05-17T16:00:59.716050Z"
    }
   },
   "outputs": [
    {
     "data": {
      "text/plain": [
       "(0.10446067262314891, 0.37184485820078267)"
      ]
     },
     "execution_count": 35,
     "metadata": {},
     "output_type": "execute_result"
    }
   ],
   "source": [
    "mse_loss(pred_nu3nl_tot, energy_tot, ntrain)"
   ]
  },
  {
   "cell_type": "code",
   "execution_count": 37,
   "id": "713cc73e",
   "metadata": {
    "ExecuteTime": {
     "end_time": "2023-05-17T16:01:10.733180Z",
     "start_time": "2023-05-17T16:01:10.584720Z"
    }
   },
   "outputs": [
    {
     "data": {
      "text/plain": [
       "[<matplotlib.lines.Line2D at 0x7f64ee420190>]"
      ]
     },
     "execution_count": 37,
     "metadata": {},
     "output_type": "execute_result"
    },
    {
     "data": {
      "image/png": "[encoded data removed]",
      "text/plain": [
       "<Figure size 432x288 with 1 Axes>"
      ]
     },
     "metadata": {
      "needs_background": "light"
     },
     "output_type": "display_data"
    }
   ],
   "source": [
    "plt.plot(energy[:ntrain],pred_nu3nl[:ntrain], 'k.')\n",
    "plt.plot(energy[ntrain:],pred_nu3nl[ntrain:], 'b.')"
   ]
  },
  {
   "cell_type": "markdown",
   "id": "2ce5544b",
   "metadata": {},
   "source": [
    "### nu3 sum"
   ]
  },
  {
   "cell_type": "code",
   "execution_count": 45,
   "id": "25f22021",
   "metadata": {
    "ExecuteTime": {
     "end_time": "2023-05-17T16:22:18.394850Z",
     "start_time": "2023-05-17T16:22:18.386721Z"
    }
   },
   "outputs": [],
   "source": [
    "pred_nu3nlsum = np.load('/home/nigam/scratch/MAC/bispectrum_counter/carbon/train4k/fit_energy_n4l3/batchmc2_single-NU3_asym-nl-SUM.npy')"
   ]
  },
  {
   "cell_type": "code",
   "execution_count": 46,
   "id": "57c281a9",
   "metadata": {
    "ExecuteTime": {
     "end_time": "2023-05-17T16:22:19.323974Z",
     "start_time": "2023-05-17T16:22:19.313186Z"
    }
   },
   "outputs": [
    {
     "data": {
      "text/plain": [
       "(0.11579400908783584, 0.42626814864487306)"
      ]
     },
     "execution_count": 46,
     "metadata": {},
     "output_type": "execute_result"
    }
   ],
   "source": [
    "mse_loss(pred_nu3nlsum, energy, ntrain)"
   ]
  },
  {
   "cell_type": "code",
   "execution_count": 47,
   "id": "236d4aa5",
   "metadata": {
    "ExecuteTime": {
     "end_time": "2023-05-17T16:22:20.496205Z",
     "start_time": "2023-05-17T16:22:20.457640Z"
    }
   },
   "outputs": [],
   "source": [
    "pred_nu3nlsum_tot = np.asarray([pred_nu3nlsum[i]+ebase*len(f) for i,f in enumerate(frames)])"
   ]
  },
  {
   "cell_type": "code",
   "execution_count": 48,
   "id": "23620ef2",
   "metadata": {
    "ExecuteTime": {
     "end_time": "2023-05-17T16:22:21.393728Z",
     "start_time": "2023-05-17T16:22:21.381039Z"
    }
   },
   "outputs": [
    {
     "data": {
      "text/plain": [
       "(0.11579400908783721, 0.4262681486448721)"
      ]
     },
     "execution_count": 48,
     "metadata": {},
     "output_type": "execute_result"
    }
   ],
   "source": [
    "mse_loss(pred_nu3nlsum_tot, energy_tot, ntrain)"
   ]
  },
  {
   "cell_type": "code",
   "execution_count": 49,
   "id": "b168fb26",
   "metadata": {
    "ExecuteTime": {
     "end_time": "2023-05-17T16:22:22.626416Z",
     "start_time": "2023-05-17T16:22:22.451500Z"
    }
   },
   "outputs": [
    {
     "data": {
      "text/plain": [
       "[<matplotlib.lines.Line2D at 0x7f64eeb46ca0>]"
      ]
     },
     "execution_count": 49,
     "metadata": {},
     "output_type": "execute_result"
    },
    {
     "data": {
      "image/png": "[encoded data removed]",
      "text/plain": [
       "<Figure size 432x288 with 1 Axes>"
      ]
     },
     "metadata": {
      "needs_background": "light"
     },
     "output_type": "display_data"
    }
   ],
   "source": [
    "plt.plot(energy[:ntrain],pred_nu3nlsum[:ntrain], 'k.')\n",
    "plt.plot(energy[ntrain:],pred_nu3nlsum[ntrain:], 'b.')"
   ]
  },
  {
   "cell_type": "code",
   "execution_count": null,
   "id": "b344ba48",
   "metadata": {},
   "outputs": [],
   "source": []
  },
  {
   "cell_type": "code",
   "execution_count": null,
   "id": "4df025aa",
   "metadata": {},
   "outputs": [],
   "source": []
  },
  {
   "cell_type": "code",
   "execution_count": null,
   "id": "a1e6f02a",
   "metadata": {},
   "outputs": [],
   "source": []
  },
  {
   "cell_type": "markdown",
   "id": "86454c63",
   "metadata": {},
   "source": [
    "## n4l3rcut2.5"
   ]
  },
  {
   "cell_type": "markdown",
   "id": "44694e4c",
   "metadata": {},
   "source": [
    "### 3c"
   ]
  },
  {
   "cell_type": "code",
   "execution_count": 38,
   "id": "17a2c3c1",
   "metadata": {
    "ExecuteTime": {
     "end_time": "2023-05-17T16:01:58.710839Z",
     "start_time": "2023-05-17T16:01:58.705853Z"
    }
   },
   "outputs": [],
   "source": [
    "pred_3cnl = np.load('/home/nigam/scratch/MAC/bispectrum_counter/carbon/train4k/fit_energy_n4l3rcut2.5/batchmc2_triple_p0-nl.npy')"
   ]
  },
  {
   "cell_type": "code",
   "execution_count": 39,
   "id": "615a3b6c",
   "metadata": {
    "ExecuteTime": {
     "end_time": "2023-05-17T16:01:59.191743Z",
     "start_time": "2023-05-17T16:01:59.188270Z"
    }
   },
   "outputs": [
    {
     "data": {
      "text/plain": [
       "(0.12855058399523922, 0.38007323422018136)"
      ]
     },
     "execution_count": 39,
     "metadata": {},
     "output_type": "execute_result"
    }
   ],
   "source": [
    "mse_loss(pred_3cnl, energy, ntrain)"
   ]
  },
  {
   "cell_type": "code",
   "execution_count": 43,
   "id": "a4b05e4a",
   "metadata": {
    "ExecuteTime": {
     "end_time": "2023-05-17T16:03:00.576144Z",
     "start_time": "2023-05-17T16:03:00.410539Z"
    }
   },
   "outputs": [
    {
     "data": {
      "text/plain": [
       "[<matplotlib.lines.Line2D at 0x7f64ee823550>]"
      ]
     },
     "execution_count": 43,
     "metadata": {},
     "output_type": "execute_result"
    },
    {
     "data": {
      "image/png": "[encoded data removed]",
      "text/plain": [
       "<Figure size 432x288 with 1 Axes>"
      ]
     },
     "metadata": {
      "needs_background": "light"
     },
     "output_type": "display_data"
    }
   ],
   "source": [
    "plt.plot(energy[:ntrain],pred_3cnl[:ntrain], 'k.')\n",
    "plt.plot(energy[ntrain:],pred_3cnl[ntrain:], 'b.')"
   ]
  },
  {
   "cell_type": "markdown",
   "id": "035d1080",
   "metadata": {},
   "source": [
    "### nu3"
   ]
  },
  {
   "cell_type": "code",
   "execution_count": 40,
   "id": "ccb0e8b6",
   "metadata": {
    "ExecuteTime": {
     "end_time": "2023-05-17T16:02:11.891520Z",
     "start_time": "2023-05-17T16:02:11.881983Z"
    }
   },
   "outputs": [],
   "source": [
    "pred_nu3nl = np.load('/home/nigam/scratch/MAC/bispectrum_counter/carbon/train4k/fit_energy_n4l3rcut2.5/batchmc2_single-NU3_asym-nl.npy')"
   ]
  },
  {
   "cell_type": "code",
   "execution_count": 41,
   "id": "a3635770",
   "metadata": {
    "ExecuteTime": {
     "end_time": "2023-05-17T16:02:15.775106Z",
     "start_time": "2023-05-17T16:02:15.764792Z"
    }
   },
   "outputs": [
    {
     "data": {
      "text/plain": [
       "(0.10417165859354321, 0.3355311912005077)"
      ]
     },
     "execution_count": 41,
     "metadata": {},
     "output_type": "execute_result"
    }
   ],
   "source": [
    "mse_loss(pred_nu3nl, energy, ntrain)"
   ]
  },
  {
   "cell_type": "code",
   "execution_count": 42,
   "id": "a077d804",
   "metadata": {
    "ExecuteTime": {
     "end_time": "2023-05-17T16:02:31.450941Z",
     "start_time": "2023-05-17T16:02:31.317972Z"
    }
   },
   "outputs": [
    {
     "data": {
      "text/plain": [
       "[<matplotlib.lines.Line2D at 0x7f64ee5949d0>]"
      ]
     },
     "execution_count": 42,
     "metadata": {},
     "output_type": "execute_result"
    },
    {
     "data": {
      "image/png": "[encoded data removed]",
      "text/plain": [
       "<Figure size 432x288 with 1 Axes>"
      ]
     },
     "metadata": {
      "needs_background": "light"
     },
     "output_type": "display_data"
    }
   ],
   "source": [
    "plt.plot(energy[:ntrain],pred_nu3nl[:ntrain], 'k.')\n",
    "plt.plot(energy[ntrain:],pred_nu3nl[ntrain:], 'b.')"
   ]
  },
  {
   "cell_type": "markdown",
   "id": "07eaa8af",
   "metadata": {},
   "source": [
    "### nu3 sum"
   ]
  },
  {
   "cell_type": "code",
   "execution_count": 50,
   "id": "83966cf0",
   "metadata": {
    "ExecuteTime": {
     "end_time": "2023-05-17T16:22:55.928878Z",
     "start_time": "2023-05-17T16:22:55.921157Z"
    }
   },
   "outputs": [],
   "source": [
    "pred_nu3nlsum = np.load('/home/nigam/scratch/MAC/bispectrum_counter/carbon/train4k/fit_energy_n4l3rcut2.5/batchmc2_single-NU3_asym-nl-SUM.npy')"
   ]
  },
  {
   "cell_type": "code",
   "execution_count": 51,
   "id": "1a37c1d3",
   "metadata": {
    "ExecuteTime": {
     "end_time": "2023-05-17T16:22:56.963098Z",
     "start_time": "2023-05-17T16:22:56.952496Z"
    }
   },
   "outputs": [
    {
     "data": {
      "text/plain": [
       "(0.066614718064105, 0.4072195873845343)"
      ]
     },
     "execution_count": 51,
     "metadata": {},
     "output_type": "execute_result"
    }
   ],
   "source": [
    "mse_loss(pred_nu3nlsum, energy, ntrain)"
   ]
  },
  {
   "cell_type": "code",
   "execution_count": 52,
   "id": "f1afdfbf",
   "metadata": {
    "ExecuteTime": {
     "end_time": "2023-05-17T16:22:57.722102Z",
     "start_time": "2023-05-17T16:22:57.687010Z"
    }
   },
   "outputs": [],
   "source": [
    "pred_nu3nlsum_tot = np.asarray([pred_nu3nlsum[i]+ebase*len(f) for i,f in enumerate(frames)])"
   ]
  },
  {
   "cell_type": "code",
   "execution_count": 53,
   "id": "ed4be8ca",
   "metadata": {
    "ExecuteTime": {
     "end_time": "2023-05-17T16:22:58.324784Z",
     "start_time": "2023-05-17T16:22:58.312010Z"
    }
   },
   "outputs": [
    {
     "data": {
      "text/plain": [
       "(0.06661471806410689, 0.40721958738453706)"
      ]
     },
     "execution_count": 53,
     "metadata": {},
     "output_type": "execute_result"
    }
   ],
   "source": [
    "mse_loss(pred_nu3nlsum_tot, energy_tot, ntrain)"
   ]
  },
  {
   "cell_type": "code",
   "execution_count": 54,
   "id": "99ac6b83",
   "metadata": {
    "ExecuteTime": {
     "end_time": "2023-05-17T16:22:59.217246Z",
     "start_time": "2023-05-17T16:22:59.085678Z"
    }
   },
   "outputs": [
    {
     "data": {
      "text/plain": [
       "[<matplotlib.lines.Line2D at 0x7f64eed80bb0>]"
      ]
     },
     "execution_count": 54,
     "metadata": {},
     "output_type": "execute_result"
    },
    {
     "data": {
      "image/png": "[encoded data removed]",
      "text/plain": [
       "<Figure size 432x288 with 1 Axes>"
      ]
     },
     "metadata": {
      "needs_background": "light"
     },
     "output_type": "display_data"
    }
   ],
   "source": [
    "plt.plot(energy[:ntrain],pred_nu3nlsum[:ntrain], 'k.')\n",
    "plt.plot(energy[ntrain:],pred_nu3nlsum[ntrain:], 'b.')"
   ]
  },
  {
   "cell_type": "code",
   "execution_count": null,
   "id": "8b2fd82c",
   "metadata": {},
   "outputs": [],
   "source": []
  },
  {
   "cell_type": "code",
   "execution_count": null,
   "id": "71817ac4",
   "metadata": {},
   "outputs": [],
   "source": []
  },
  {
   "cell_type": "markdown",
   "id": "2cc974c6",
   "metadata": {},
   "source": [
    "# CHECKS"
   ]
  },
  {
   "cell_type": "code",
   "execution_count": null,
   "id": "d76296e6",
   "metadata": {},
   "outputs": [],
   "source": [
    "from ase.io import read, write\n",
    "import hickle\n",
    "from sklearn.decomposition import PCA \n",
    "import ase \n",
    "import json\n",
    "from tqdm import tqdm\n",
    "class tqdm_reusable:\n",
    "    def __init__(self, *args, **kwargs):\n",
    "        self._args = args\n",
    "        self._kwargs = kwargs\n",
    "\n",
    "    def __iter__(self):\n",
    "        return tqdm(*self._args, **self._kwargs).__iter__()\n",
    "import torch\n",
    "import copy \n",
    "import numpy as np\n",
    "import scipy as sp\n",
    "from equistore.io import load,save\n",
    "from equistore import Labels, TensorBlock, TensorMap\n",
    "from itertools import product\n",
    "from equistore_utils.clebsh_gordan import ClebschGordanReal\n",
    "from rascaline import SphericalExpansion\n",
    "from rascaline import SphericalExpansionByPair as PairExpansion\n",
    "from equistore import operations\n",
    "import sys, os\n",
    "sys.path.append(os.getcwd())\n",
    "from feat_settings import *\n",
    "cg = ClebschGordanReal(5)\n",
    "from equistore_utils.mp_utils import *\n",
    "\n",
    "import scipy\n",
    "frames = read(frames_file, \":2\")\n",
    "print(len(frames))\n",
    "#\n",
    "calculator = SphericalExpansion(**hypers)\n",
    "rhoi = calculator.compute(frames)\n",
    "rhoi = rhoi.keys_to_properties(['species_neighbor'])\n",
    "rho1i = acdc_standardize_keys(rhoi)\n",
    "## selects only one environment\n",
    "rho1i = operations.slice(rho1i, axis=\"samples\", labels=Labels(['center'],np.array([[0]], np.int32)) )\n",
    "# norm_rho1 = np.sqrt(np.sum([(b.values**2).sum(axis=(1,2)) for b in rho1i.blocks()],axis=0).mean())\n",
    "# for b in rho1i.blocks():\n",
    "#     b.values[:]/=norm_rho1\n",
    "##print(np.sqrt(np.sum([(b.values**2).sum(axis=(1,2)) for b in rho1i.blocks()],axis=0).mean()))\n",
    "#\n",
    "calculator = PairExpansion(**hypers)\n",
    "gij = calculator.compute(frames)\n",
    "gij = operations.slice(gij, axis=\"samples\", labels=Labels(['first_atom'],np.array([[0]], np.int32)) )\n",
    "gij =  acdc_standardize_keys(gij)\n",
    "norm_gij = np.sqrt(np.sum([(b.values**2).sum(axis=(1,2)) for b in gij.blocks()],axis=0).mean())\n",
    "# for b in gij.blocks():\n",
    "#     b.values[:]/=norm_gij"
   ]
  },
  {
   "cell_type": "code",
   "execution_count": null,
   "id": "cd3fae8f",
   "metadata": {},
   "outputs": [],
   "source": [
    "test = operations.sum_over_samples(gij, sample_names=[\"neighbor\"])\n",
    "print(\"test (should be zero)\", np.linalg.norm(rho1i.block(0).values/test.block(0).values -1))\n",
    "#\n",
    "rhoii1i2_nu0 = cg_combine(gij, gij, clebsch_gordan=cg, other_keys_match=['species_center'], lcut=3)\n",
    "rhoii1i2_nu1 =  cg_combine(rho1i, rhoii1i2_nu0, clebsch_gordan=cg, other_keys_match = ['species_center'], lcut=0)\n"
   ]
  },
  {
   "cell_type": "code",
   "execution_count": null,
   "id": "6bf282c0",
   "metadata": {},
   "outputs": [],
   "source": [
    "rho2i = cg_increment(rho1i, rho1i, clebsch_gordan=cg, lcut=lcut, other_keys_match=[\"species_center\"])\n",
    "rho3i = cg_increment(rho2i, rho1i, clebsch_gordan=cg, lcut=0, other_keys_match=[\"species_center\"])"
   ]
  },
  {
   "cell_type": "code",
   "execution_count": 78,
   "id": "c393b158",
   "metadata": {},
   "outputs": [
    {
     "data": {
      "text/plain": [
       "0.9293165079625991"
      ]
     },
     "execution_count": 78,
     "metadata": {},
     "output_type": "execute_result"
    }
   ],
   "source": [
    "(np.linalg.norm(rho3i.block(0).values)**2+ np.linalg.norm(rho3i.block(1).values)**2)#/(norm_rho1**2)"
   ]
  },
  {
   "cell_type": "code",
   "execution_count": 77,
   "id": "41e902f2",
   "metadata": {},
   "outputs": [
    {
     "data": {
      "text/plain": [
       "1.0551691087322637"
      ]
     },
     "execution_count": 77,
     "metadata": {},
     "output_type": "execute_result"
    }
   ],
   "source": [
    "(np.linalg.norm(a.block(0).values)**2+np.linalg.norm(a.block(1).values)**2)#/(norm_gij**1)"
   ]
  },
  {
   "cell_type": "code",
   "execution_count": null,
   "id": "21a8a3c2",
   "metadata": {},
   "outputs": [],
   "source": []
  }
 ],
 "metadata": {
  "kernelspec": {
   "display_name": "Python 3 (ipykernel)",
   "language": "python",
   "name": "python3"
  },
  "language_info": {
   "codemirror_mode": {
    "name": "ipython",
    "version": 3
   },
   "file_extension": ".py",
   "mimetype": "text/x-python",
   "name": "python",
   "nbconvert_exporter": "python",
   "pygments_lexer": "ipython3",
   "version": "3.12.3"
  },
  "toc": {
   "base_numbering": 1,
   "nav_menu": {},
   "number_sections": true,
   "sideBar": true,
   "skip_h1_title": false,
   "title_cell": "Table of Contents",
   "title_sidebar": "Contents",
   "toc_cell": false,
   "toc_position": {
    "height": "calc(100% - 180px)",
    "left": "10px",
    "top": "150px",
    "width": "167px"
   },
   "toc_section_display": true,
   "toc_window_display": true
  }
 },
 "nbformat": 4,
 "nbformat_minor": 5
}
