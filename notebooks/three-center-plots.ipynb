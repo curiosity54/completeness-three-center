{
 "cells": [
  {
   "cell_type": "code",
   "execution_count": 3,
   "id": "b0e4eccf-54f4-4572-a5e1-0b54423b956e",
   "metadata": {
    "ExecuteTime": {
     "end_time": "2023-05-26T13:51:51.478590Z",
     "start_time": "2023-05-26T13:51:51.454927Z"
    }
   },
   "outputs": [],
   "source": [
    "# import chemiscope\n",
    "# import skmatter\n",
    "import numpy as np\n",
    "import matplotlib.pyplot as plt\n",
    "import ast\n",
    "from rascaline import SphericalExpansion, SphericalExpansionByPair\n",
    "from equistore import Labels, TensorBlock, TensorMap\n",
    "from equistore import operations\n",
    "from itertools import product\n",
    "from equistore_utils.mp_utils import acdc_standardize_keys, cg_increment, cg_combine, _remove_suffix, flatten\n",
    "from equistore_utils.clebsh_gordan import ClebschGordanReal\n",
    "import ase.io as aseio"
   ]
  },
  {
   "cell_type": "markdown",
   "id": "4009ddf0-5e3e-451b-94c7-fd1eec0d74c7",
   "metadata": {},
   "source": [
    "## Loads structures"
   ]
  },
  {
   "cell_type": "code",
   "execution_count": 5,
   "id": "9078146e-eeed-4f3e-9222-b034fc8f3a5f",
   "metadata": {
    "ExecuteTime": {
     "end_time": "2023-05-26T13:52:04.359849Z",
     "start_time": "2023-05-26T13:52:02.016262Z"
    }
   },
   "outputs": [],
   "source": [
    "frames = aseio.read(\"/Users/jigyasa/scratch/bispectrum_counter/boron/boron_8000_pbeccpvdz.xyz\", \":\")"
   ]
  },
  {
   "cell_type": "markdown",
   "id": "3d3781eb-ba2d-44c7-9a36-9176fa09a1e2",
   "metadata": {},
   "source": [
    "## Computes expansion coefficients"
   ]
  },
  {
   "cell_type": "code",
   "execution_count": 7,
   "id": "ffcfa6ef",
   "metadata": {
    "ExecuteTime": {
     "end_time": "2023-05-26T13:52:22.696014Z",
     "start_time": "2023-05-26T13:52:22.688006Z"
    }
   },
   "outputs": [],
   "source": [
    "operations.slice?"
   ]
  },
  {
   "cell_type": "code",
   "execution_count": 8,
   "id": "33d59393-9e74-4943-af39-624b6c09a913",
   "metadata": {
    "ExecuteTime": {
     "end_time": "2023-05-26T13:52:42.514116Z",
     "start_time": "2023-05-26T13:52:39.606505Z"
    }
   },
   "outputs": [],
   "source": [
    "hypers = {\n",
    "    \"cutoff\": 2.5,\n",
    "    \"max_radial\": 2,\n",
    "    \"max_angular\": 3,\n",
    "    \"atomic_gaussian_width\": 0.2,\n",
    "    \"radial_basis\": {\"Gto\": {}},\n",
    "    \"cutoff_function\": {\"ShiftedCosine\": {\"width\": 0.1}},\n",
    "    \"center_atom_weight\": 0.0,    \n",
    "}\n",
    "calculator = SphericalExpansion(**hypers)\n",
    "rhoi = calculator.compute(frames)\n",
    "rhoi = rhoi.keys_to_properties(['species_neighbor'])\n",
    "rho1i = acdc_standardize_keys(rhoi)\n",
    "\n",
    "# selects only one environment\n",
    "rho1i = operations.slice(rho1i, axis = \"samples\", labels=Labels(['center'],np.array([[0]], np.int32)) )\n",
    "norm_rho1 = np.sqrt(np.sum([(b.values**2).sum(axis=(1,2)) for b in rho1i.blocks()],axis=0).mean())\n",
    "for b in rho1i.blocks():\n",
    "    b.values[:]/=norm_rho1"
   ]
  },
  {
   "cell_type": "code",
   "execution_count": 11,
   "id": "0219965d-36ba-46cf-8830-58d6c1e74319",
   "metadata": {
    "ExecuteTime": {
     "end_time": "2023-05-26T13:52:56.220280Z",
     "start_time": "2023-05-26T13:52:53.382334Z"
    }
   },
   "outputs": [],
   "source": [
    "calculator = SphericalExpansionByPair(**hypers)\n",
    "gij = calculator.compute(frames)\n",
    "gij = operations.slice(gij, axis=\"samples\", labels=Labels(['first_atom'],np.array([[0]], np.int32)) )\n",
    "gij =  acdc_standardize_keys(gij)\n",
    "for b in gij.blocks():\n",
    "    b.values[:]/=norm_rho1"
   ]
  },
  {
   "cell_type": "markdown",
   "id": "d944c0c2-fc1f-43f1-961d-6a93a59f47b9",
   "metadata": {},
   "source": [
    "## Triplet descriptors"
   ]
  },
  {
   "cell_type": "code",
   "execution_count": 12,
   "id": "5792cfb6-8444-48e8-a8b3-7cf5c0440e85",
   "metadata": {
    "ExecuteTime": {
     "end_time": "2023-05-26T13:52:56.352174Z",
     "start_time": "2023-05-26T13:52:56.304688Z"
    }
   },
   "outputs": [],
   "source": [
    "cg = ClebschGordanReal(5)"
   ]
  },
  {
   "cell_type": "code",
   "execution_count": 13,
   "id": "3ef0875f-19de-4ce3-aba3-8a35cee8800b",
   "metadata": {
    "ExecuteTime": {
     "end_time": "2023-05-26T13:53:34.231600Z",
     "start_time": "2023-05-26T13:52:56.854860Z"
    }
   },
   "outputs": [
    {
     "name": "stderr",
     "output_type": "stream",
     "text": [
      "\n",
      "KeyboardInterrupt\n",
      "\n"
     ]
    }
   ],
   "source": [
    "%%time\n",
    "rhoii1i2_nu0 = cg_combine(gij, gij, clebsch_gordan=cg, other_keys_match=['species_center'], lcut=3)"
   ]
  },
  {
   "cell_type": "code",
   "execution_count": 14,
   "id": "f8fc7e50-b5f2-43ee-ab30-97d8d813fe07",
   "metadata": {
    "ExecuteTime": {
     "end_time": "2023-05-26T13:53:34.383059Z",
     "start_time": "2023-05-26T13:53:34.237097Z"
    }
   },
   "outputs": [
    {
     "name": "stderr",
     "output_type": "stream",
     "text": [
      "Exception ignored in: <function Labels.__del__ at 0x132a127a0>\n",
      "Traceback (most recent call last):\n",
      "  File \"/Users/jigyasa/miniconda3/lib/python3.10/site-packages/equistore/core/labels.py\", line 146, in __del__\n",
      "    self._lib.eqs_labels_free(self._eqs_labels_t)\n",
      "  File \"/Users/jigyasa/miniconda3/lib/python3.10/site-packages/equistore/core/status.py\", line 28, in _check_status\n",
      "    def _check_status(status):\n",
      "KeyboardInterrupt: \n"
     ]
    },
    {
     "ename": "NameError",
     "evalue": "name 'rhoii1i2_nu0' is not defined",
     "output_type": "error",
     "traceback": [
      "\u001b[0;31m---------------------------------------------------------------------------\u001b[0m",
      "\u001b[0;31mNameError\u001b[0m                                 Traceback (most recent call last)",
      "File \u001b[0;32m<timed exec>:1\u001b[0m\n",
      "\u001b[0;31mNameError\u001b[0m: name 'rhoii1i2_nu0' is not defined"
     ]
    }
   ],
   "source": [
    "%%time \n",
    "rhoii1i2_nu1 =  cg_combine(rho1i, rhoii1i2_nu0, clebsch_gordan=cg, other_keys_match = ['species_center'], lcut=0)"
   ]
  },
  {
   "cell_type": "markdown",
   "id": "3292502c-666a-4882-9b9d-fe77142e28e0",
   "metadata": {},
   "source": [
    "Now contract descriptors to make things faster"
   ]
  },
  {
   "cell_type": "code",
   "execution_count": 15,
   "id": "c1d2c189-baf4-406d-9ec7-37af77ea68ba",
   "metadata": {
    "ExecuteTime": {
     "end_time": "2023-05-26T13:53:34.691402Z",
     "start_time": "2023-05-26T13:53:34.385579Z"
    }
   },
   "outputs": [
    {
     "name": "stderr",
     "output_type": "stream",
     "text": [
      "\n",
      "KeyboardInterrupt\n",
      "\n"
     ]
    }
   ],
   "source": [
    "from sklearn.decomposition import PCA"
   ]
  },
  {
   "cell_type": "code",
   "execution_count": null,
   "id": "3c8592e3-4b81-4a3e-82cc-77c4d13aea7e",
   "metadata": {
    "ExecuteTime": {
     "end_time": "2023-05-26T13:53:34.695109Z",
     "start_time": "2023-05-26T13:53:34.695093Z"
    }
   },
   "outputs": [],
   "source": [
    "%%time\n",
    "raw = np.hstack([rhoii1i2_nu1.block(0).values.squeeze(),rhoii1i2_nu1.block(1).values.squeeze()])\n",
    "feats_n2nu1 = PCA(n_components=min(raw.shape[0],raw.shape[-1])//4).fit_transform(raw)/ np.sqrt((raw**2).sum(axis=1).mean())"
   ]
  },
  {
   "cell_type": "code",
   "execution_count": null,
   "id": "174b99a0-ad3a-4073-b46b-2badf157005d",
   "metadata": {
    "ExecuteTime": {
     "end_time": "2023-05-26T13:53:34.697300Z",
     "start_time": "2023-05-26T13:53:34.697283Z"
    }
   },
   "outputs": [],
   "source": [
    "rhoii1i2_nu0 = None; rhoii1i2_nu1 = None;"
   ]
  },
  {
   "cell_type": "markdown",
   "id": "14b7df5a-c6bb-4f5c-bf38-5015851c1ed5",
   "metadata": {},
   "source": [
    "compute squares and re-contract"
   ]
  },
  {
   "cell_type": "code",
   "execution_count": null,
   "id": "24fc1f5d-aab1-4492-8b68-32153deeee7b",
   "metadata": {},
   "outputs": [],
   "source": []
  },
  {
   "cell_type": "code",
   "execution_count": null,
   "id": "4cba8cda-07db-44c9-a5cb-2cf8b23eca3e",
   "metadata": {
    "ExecuteTime": {
     "end_time": "2023-05-26T13:53:34.698637Z",
     "start_time": "2023-05-26T13:53:34.698626Z"
    }
   },
   "outputs": [],
   "source": [
    "%%time\n",
    "feats_n3 = feats_n2nu1.reshape(8000,64,-1).sum(axis=1)"
   ]
  },
  {
   "cell_type": "code",
   "execution_count": null,
   "id": "fb2d009e-fd83-41a0-80d2-7b466686d9ef",
   "metadata": {
    "ExecuteTime": {
     "end_time": "2023-05-26T13:53:34.700777Z",
     "start_time": "2023-05-26T13:53:34.700759Z"
    }
   },
   "outputs": [],
   "source": [
    "%%time\n",
    "feats_n2nu1_2 = np.einsum('ija,ijb->iab', feats_n2nu1.reshape(8000,64,-1), feats_n2nu1.reshape(8000,64,-1)).reshape(8000,-1)"
   ]
  },
  {
   "cell_type": "code",
   "execution_count": 26,
   "id": "5ef8b543-f238-4a11-8c9c-fd770e39141e",
   "metadata": {},
   "outputs": [],
   "source": [
    "from skmatter.decomposition import PCovR\n",
    "from skmatter.preprocessing import StandardFlexibleScaler\n",
    "from sklearn.linear_model import Ridge"
   ]
  },
  {
   "cell_type": "code",
   "execution_count": 20,
   "id": "0fc718a1-48c6-4dbf-9bc4-0fb2b46de237",
   "metadata": {},
   "outputs": [],
   "source": [
    "e0 = -198.11364281310415\n",
    "energy = np.array([27.211386*(f.info['energy_ha']-e0) for f in frames])"
   ]
  },
  {
   "cell_type": "code",
   "execution_count": 102,
   "id": "5a151ed2-c98b-4363-b49a-373d239a332e",
   "metadata": {},
   "outputs": [
    {
     "data": {
      "text/plain": [
       "{'energy_ha': -197.8044024219673,\n",
       " 'label': 0,\n",
       " 'basis': 'ccpvdz',\n",
       " 'xc': 'pbe',\n",
       " 'pars': \"(0, '+', 1.3945490156290707, 0.5779363176538004, 1.7685268584161764, 2.2879156819735713, 2.6660340954713644, 1.8331788801509368)\"}"
      ]
     },
     "execution_count": 102,
     "metadata": {},
     "output_type": "execute_result"
    }
   ],
   "source": [
    "frames[0].info"
   ]
  },
  {
   "cell_type": "code",
   "execution_count": 103,
   "id": "3902bc22-e536-42a6-8976-ef5fe8f02059",
   "metadata": {},
   "outputs": [],
   "source": [
    "X_scaler = StandardFlexibleScaler()\n",
    "X_scaled = X_scaler.fit_transform(feats_n2nu1_2)\n",
    "\n",
    "y_scaler = StandardFlexibleScaler()\n",
    "y_scaled = y_scaler.fit_transform(energy.reshape(-1,1))"
   ]
  },
  {
   "cell_type": "code",
   "execution_count": 104,
   "id": "55714bb2-94c3-445d-964f-81879711a974",
   "metadata": {},
   "outputs": [],
   "source": [
    "pcovr = PCovR(mixing=0.5,\n",
    "              regressor=Ridge(alpha=1E-8, fit_intercept=False, tol=1E-12),\n",
    "              n_components=2)"
   ]
  },
  {
   "cell_type": "code",
   "execution_count": 105,
   "id": "f1177922-2ff9-4bcb-9ff0-7203a57b5f81",
   "metadata": {},
   "outputs": [],
   "source": [
    "T = pcovr.fit_transform(X_scaled, y_scaled)"
   ]
  },
  {
   "cell_type": "code",
   "execution_count": 122,
   "id": "46f6f2cd-b23f-43a0-b3a0-166466823c39",
   "metadata": {},
   "outputs": [],
   "source": [
    "ypred_n3 = Ridge(alpha=1e-8).fit(feats_n3, energy).predict(feats_n3)"
   ]
  },
  {
   "cell_type": "code",
   "execution_count": 123,
   "id": "e3a79733-14fc-4616-bc28-12b9ff585ca3",
   "metadata": {},
   "outputs": [],
   "source": [
    "ypred = Ridge(alpha=1e-8).fit(X_scaled, energy).predict(X_scaled)"
   ]
  },
  {
   "cell_type": "code",
   "execution_count": 124,
   "id": "0cd43150-70c1-420b-b24a-d99f4c1dbbbc",
   "metadata": {},
   "outputs": [
    {
     "data": {
      "text/plain": [
       "[<matplotlib.lines.Line2D at 0x7f569d4e4e20>]"
      ]
     },
     "execution_count": 124,
     "metadata": {},
     "output_type": "execute_result"
    },
    {
     "data": {
      "image/png": "[encoded data removed]",
      "text/plain": [
       "<Figure size 432x288 with 1 Axes>"
      ]
     },
     "metadata": {
      "needs_background": "light"
     },
     "output_type": "display_data"
    }
   ],
   "source": [
    "plt.plot(energy, ypred,'b.')"
   ]
  },
  {
   "cell_type": "code",
   "execution_count": 181,
   "id": "903051c2-d907-48cb-aa0f-7f3d3993967b",
   "metadata": {},
   "outputs": [
    {
     "data": {
      "image/png": "[encoded data removed]",
      "text/plain": [
       "<Figure size 252x252 with 1 Axes>"
      ]
     },
     "metadata": {
      "needs_background": "light"
     },
     "output_type": "display_data"
    }
   ],
   "source": [
    "fig, ax = plt.subplots(1, 1, figsize=(3.5,3.5), constrained_layout=True)\n",
    "ax.plot(np.vstack([energy[:200:2],energy[1:200:2]]), np.vstack([ypred_n3[:200:2],ypred_n3[1:200:2]]),'r-', lw=1);\n",
    "ax.plot(energy[:200:2],ypred_n3[:200:2],'r',ls=\"\",marker='x',markersize=2, label=r\"$\\xi_q(A_i)=\\langle q|\\rho_i^{\\otimes{3}}\\rangle$\");\n",
    "ax.plot(energy[1:200:2],ypred_n3[1:200:2],'r',ls=\"\",marker='o',markersize=2);\n",
    "ax.plot(np.vstack([energy[:200:2],energy[1:200:2]]), np.vstack([ypred[:200:2],ypred[1:200:2]]),'b-', lw=1);\n",
    "ax.plot(energy[0:200:2],ypred[0:200:2],'b',ls=\"\",marker='x',markersize=2, label=r\"$\\tilde{\\xi}_p(A_i) =\\sum_{i_1,i_2}\\psi_p[|\\rho_{ii_1 i_2}^{\\otimes{1}}\\rangle]$\");\n",
    "ax.plot(energy[1:200:2],ypred[1:200:2],'b',ls=\"\",marker='o',markersize=2);\n",
    "ax.set_xlim(1,12)\n",
    "ax.set_ylim(1,12)\n",
    "ax.set_xlabel('energy / eV')\n",
    "ax.set_ylabel('predicted / eV')\n",
    "ax.legend()\n",
    "fig.savefig(\"/tmp/pair_stuff.svg\")"
   ]
  },
  {
   "cell_type": "code",
   "execution_count": 115,
   "id": "7dc25b84-d3d0-4010-85a7-b881743d07e4",
   "metadata": {},
   "outputs": [
    {
     "data": {
      "application/vnd.jupyter.widget-view+json": {
       "model_id": "ca63476301af44f0b94524d002525889",
       "version_major": 2,
       "version_minor": 0
      },
      "text/plain": [
       "ChemiscopeWidget(value='{\"meta\": {\"name\": \" \"}, \"settings\": {\"map\": {\"x\": {\"max\": 3.9222807923514678, \"min\": -…"
      ]
     },
     "metadata": {},
     "output_type": "display_data"
    }
   ],
   "source": [
    "cs=chemiscope.show(frames=frames, properties={\"PCovR[1]\" : T[:,0], \"PCovR[2]\" : T[:,1], \"energy/eV\" :energy, \"pair_id\": [ast.literal_eval(f.info['pars'])[1] for f in frames]},\n",
    "                  settings={'map': {'x': {'max': 3.9222807923514678,    'min': -1.7918320583142955,   'property': 'PCovR[1]',   'scale': 'linear'},\n",
    "  'y': {'max': 1.5695223016140076,   'min': -1.2764482528170318,   'property': 'PCovR[2]',   'scale': 'linear'},\n",
    "  'z': {'max': 0, 'min': 0, 'property': '', 'scale': 'linear'},  'color': {'max': 25.97947119556587,   'min': -0.38104196321398304,   'property': 'energy/eV',   'scale': 'linear'},\n",
    "  'symbol': 'pair_id',  'palette': 'inferno',  'size': {'factor': 30, 'mode': 'linear', 'property': '', 'reverse': False}}})\n",
    "display(cs)"
   ]
  },
  {
   "cell_type": "code",
   "execution_count": 111,
   "id": "68731777-4ae4-4839-a073-dfd58741debf",
   "metadata": {},
   "outputs": [
    {
     "data": {
      "text/plain": [
       "{'map': {'x': {'max': 3.9222807923514678,\n",
       "   'min': -1.7918320583142955,\n",
       "   'property': 'PCovR[1]',\n",
       "   'scale': 'linear'},\n",
       "  'y': {'max': 1.5695223016140076,\n",
       "   'min': -1.2764482528170318,\n",
       "   'property': 'PCovR[2]',\n",
       "   'scale': 'linear'},\n",
       "  'z': {'max': 0, 'min': 0, 'property': '', 'scale': 'linear'},\n",
       "  'color': {'max': 25.97947119556587,\n",
       "   'min': -0.38104196321398304,\n",
       "   'property': 'energy/eV',\n",
       "   'scale': 'linear'},\n",
       "  'symbol': '',\n",
       "  'palette': 'inferno',\n",
       "  'size': {'factor': 50, 'mode': 'linear', 'property': '', 'reverse': False}},\n",
       " 'structure': [{'bonds': True,\n",
       "   'spaceFilling': False,\n",
       "   'atomLabels': False,\n",
       "   'unitCell': False,\n",
       "   'rotation': False,\n",
       "   'supercell': {'0': 1, '1': 1, '2': 1},\n",
       "   'axes': 'off',\n",
       "   'keepOrientation': False,\n",
       "   'playbackDelay': 700,\n",
       "   'environments': {'activated': True,\n",
       "    'bgColor': 'grey',\n",
       "    'bgStyle': 'ball-stick',\n",
       "    'center': False,\n",
       "    'cutoff': 0}}]}"
      ]
     },
     "execution_count": 111,
     "metadata": {},
     "output_type": "execute_result"
    }
   ],
   "source": [
    "cs.settings"
   ]
  },
  {
   "cell_type": "code",
   "execution_count": null,
   "id": "feb9f5a3-7ff5-4216-b69c-b6d6fadc8e64",
   "metadata": {},
   "outputs": [],
   "source": []
  }
 ],
 "metadata": {
  "kernelspec": {
   "display_name": "Python 3 (ipykernel)",
   "language": "python",
   "name": "python3"
  },
  "language_info": {
   "codemirror_mode": {
    "name": "ipython",
    "version": 3
   },
   "file_extension": ".py",
   "mimetype": "text/x-python",
   "name": "python",
   "nbconvert_exporter": "python",
   "pygments_lexer": "ipython3",
   "version": "3.10.10"
  },
  "toc": {
   "base_numbering": 1,
   "nav_menu": {},
   "number_sections": true,
   "sideBar": true,
   "skip_h1_title": false,
   "title_cell": "Table of Contents",
   "title_sidebar": "Contents",
   "toc_cell": false,
   "toc_position": {},
   "toc_section_display": true,
   "toc_window_display": false
  }
 },
 "nbformat": 4,
 "nbformat_minor": 5
}
